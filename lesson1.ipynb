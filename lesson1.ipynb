{
 "cells": [
  {
   "cell_type": "code",
   "execution_count": null,
   "metadata": {},
   "outputs": [],
   "source": [
    "## string \n",
    "e.g \"Tahir\" \"10\"\n",
    "\n",
    "## intiger \n",
    "e.g 10, -1, 0, 42\n",
    "\n",
    "## float\n",
    "e.g 3.142, -3.142, 0.0, \n",
    "\n",
    "## boolen\n",
    "e.g 2 <3 -- True, False"
   ]
  },
  {
   "cell_type": "code",
   "execution_count": 3,
   "metadata": {},
   "outputs": [
    {
     "name": "stdout",
     "output_type": "stream",
     "text": [
      "20.0\n"
     ]
    }
   ],
   "source": [
    "a = 10.0\n",
    "b = 10.0\n",
    "total = a + b\n",
    "print(total)"
   ]
  },
  {
   "cell_type": "code",
   "execution_count": 5,
   "metadata": {},
   "outputs": [
    {
     "name": "stdout",
     "output_type": "stream",
     "text": [
      "55\n"
     ]
    }
   ],
   "source": [
    "variable1 = 22\n",
    "variable2 = 33\n",
    "total = variable1+variable2\n",
    "print (total)"
   ]
  },
  {
   "cell_type": "code",
   "execution_count": 6,
   "metadata": {},
   "outputs": [
    {
     "name": "stdout",
     "output_type": "stream",
     "text": [
      "2332\n"
     ]
    }
   ],
   "source": [
    "## input function\n",
    "num1 = input(\"please neter a number\")\n",
    "num2 = input(\"please enter a second number\")\n",
    "\n",
    "new_total = num1 + num2\n",
    "\n",
    "print(new_total)\n"
   ]
  },
  {
   "cell_type": "code",
   "execution_count": 8,
   "metadata": {},
   "outputs": [
    {
     "name": "stdout",
     "output_type": "stream",
     "text": [
      "50\n"
     ]
    }
   ],
   "source": [
    "##convert input to intiger\n",
    "num3 = int(input(\"Please neter a number\"))\n",
    "num4 = int(input(\"Please enter a second number\"))\n",
    "\n",
    "new_total_1 = num1 + num2\n",
    "\n",
    "print(new_total_1)"
   ]
  },
  {
   "cell_type": "code",
   "execution_count": 10,
   "metadata": {},
   "outputs": [
    {
     "name": "stdout",
     "output_type": "stream",
     "text": [
      "30\n"
     ]
    }
   ],
   "source": [
    "##convert input to intiger method 2\n",
    "num5 = input(\"Please neter a number\")\n",
    "num6 = input(\"Please enter a second number\")\n",
    "\n",
    "new_total_2 = int(num5) + int(num6)\n",
    "\n",
    "print(new_total_2)"
   ]
  },
  {
   "cell_type": "code",
   "execution_count": 11,
   "metadata": {},
   "outputs": [],
   "source": [
    "# This is a comment using the \"#\" "
   ]
  },
  {
   "cell_type": "code",
   "execution_count": 12,
   "metadata": {},
   "outputs": [
    {
     "name": "stdout",
     "output_type": "stream",
     "text": [
      "8\n"
     ]
    }
   ],
   "source": [
    "# Math operator intiger\n",
    "calc = 17 // 2\n",
    "print(calc)"
   ]
  },
  {
   "cell_type": "code",
   "execution_count": 13,
   "metadata": {},
   "outputs": [
    {
     "name": "stdout",
     "output_type": "stream",
     "text": [
      "1\n"
     ]
    }
   ],
   "source": [
    "# modulus\n",
    "calc1 = 17 % 2\n",
    "print(calc1)"
   ]
  },
  {
   "cell_type": "code",
   "execution_count": 23,
   "metadata": {},
   "outputs": [
    {
     "name": "stdout",
     "output_type": "stream",
     "text": [
      "90\n"
     ]
    }
   ],
   "source": [
    "##modify\n",
    "num7 = int(input(\"Please enter number 1\"))\n",
    "num8 = int(input(\"Please enter number 2\"))\n",
    "num9 = int(input(\"Please enter number 3\"))\n",
    "\n",
    "total_3 = (num7 + num8 + num9)\n",
    "print(total_3)"
   ]
  },
  {
   "cell_type": "code",
   "execution_count": 24,
   "metadata": {},
   "outputs": [
    {
     "name": "stdout",
     "output_type": "stream",
     "text": [
      "30.0\n"
     ]
    }
   ],
   "source": [
    "print(total_3/3)"
   ]
  },
  {
   "cell_type": "code",
   "execution_count": 25,
   "metadata": {},
   "outputs": [
    {
     "name": "stdout",
     "output_type": "stream",
     "text": [
      "30.0\n",
      "10.0\n"
     ]
    }
   ],
   "source": [
    "# take input from 3 numbers\n",
    "num10 = float(input(\"please enter the first number\"))\n",
    "num11 = float(input(\"please enter the second number\"))\n",
    "num12 = float(input(\"please enter the third number\"))\n",
    "\n",
    "#calculate the total\n",
    "total_4 = num10 + num11 + num12\n",
    "\n",
    "#Calculate average\n",
    "average = total_4/3\n",
    "\n",
    "# Print output\n",
    "print(total_4)\n",
    "print(average)\n",
    "\n",
    "\n"
   ]
  },
  {
   "cell_type": "code",
   "execution_count": 34,
   "metadata": {},
   "outputs": [
    {
     "name": "stdout",
     "output_type": "stream",
     "text": [
      "1\n",
      "3\n",
      "5\n",
      "7\n",
      "9\n",
      "11\n",
      "13\n",
      "15\n",
      "17\n",
      "19\n",
      "21\n"
     ]
    }
   ],
   "source": [
    "for i in range(1,22,2):\n",
    "    print(i)"
   ]
  },
  {
   "cell_type": "code",
   "execution_count": 48,
   "metadata": {},
   "outputs": [
    {
     "name": "stdout",
     "output_type": "stream",
     "text": [
      "10\n",
      "20\n",
      "30\n",
      "40\n",
      "50\n",
      "60\n",
      "70\n",
      "80\n",
      "90\n",
      "100\n",
      "110\n",
      "120\n"
     ]
    }
   ],
   "source": [
    "table = int(input(\"what times table do you need?\"))\n",
    "for i in range(1,13):\n",
    "                print(table*i)"
   ]
  },
  {
   "cell_type": "code",
   "execution_count": null,
   "metadata": {},
   "outputs": [],
   "source": [
    "#Times table \n",
    "## prompt from user for the times table\n",
    "times_table = int(input(\"what times table do you want me to display\"))\n",
    "\n",
    "## use a for loop to diplay the times table from 1 to 12\n",
    "\n",
    "for x in range(1,13):\n",
    "    print(x, \"x\",times_table, \"=\", times_table * x)"
   ]
  },
  {
   "cell_type": "code",
   "execution_count": null,
   "metadata": {},
   "outputs": [],
   "source": [
    "## Ask the user for a message\n",
    "message = input(\"Please enter a message\")\n",
    "##number of times to repeat\n",
    "message_times = int(input(\"how many times would you like th emessage ot be displyed?\"))\n",
    "#print the message number of times\n",
    "for i in range(1, message_times+1):\n",
    "    print(i,\":\", message)"
   ]
  },
  {
   "cell_type": "code",
   "execution_count": 57,
   "metadata": {},
   "outputs": [
    {
     "data": {
      "text/plain": [
       "True"
      ]
     },
     "execution_count": 57,
     "metadata": {},
     "output_type": "execute_result"
    }
   ],
   "source": [
    "a = 2\n",
    "a == 2\n"
   ]
  },
  {
   "cell_type": "code",
   "execution_count": 61,
   "metadata": {},
   "outputs": [
    {
     "name": "stdout",
     "output_type": "stream",
     "text": [
      "the second number is greater than the first number\n"
     ]
    }
   ],
   "source": [
    "## ask te user for 2 numbers and select the larger number\n",
    "num13 = float(input(\"enter a number\"))\n",
    "num14 = float(input(\"enter another number\"))\n",
    "\n",
    "if num13 > num14:\n",
    "    print(\"the first number is greater than the second number\")\n",
    "else:\n",
    "    print(\"the second number is greater than the first number\")"
   ]
  },
  {
   "cell_type": "code",
   "execution_count": 65,
   "metadata": {},
   "outputs": [
    {
     "name": "stdout",
     "output_type": "stream",
     "text": [
      "sorry mate you are too young\n"
     ]
    }
   ],
   "source": [
    "##eligibility to enter pub\n",
    "age = int(input(\"What is our age?\"))\n",
    "if age>=18:\n",
    "    print(\"Welcome to the pub\")\n",
    "elif age<=13:\n",
    "    print(\"sorry mate you are too young\")\n",
    "else:\n",
    "    print(\"you are too young to enter on your own, you must be accompanied by an adult\")\n"
   ]
  },
  {
   "cell_type": "code",
   "execution_count": 67,
   "metadata": {},
   "outputs": [
    {
     "name": "stdout",
     "output_type": "stream",
     "text": [
      "you were not born in a leap year\n"
     ]
    }
   ],
   "source": [
    "## Leap year task\n",
    "## collect th year that you were born\n",
    "year = int(input(\"enter the year you were born\"))\n",
    "if year % 4 == 0:\n",
    "    print(\"you were born in a leap year\")\n",
    "else:\n",
    "    print (\"you were not born in a leap year\")"
   ]
  },
  {
   "cell_type": "code",
   "execution_count": null,
   "metadata": {},
   "outputs": [],
   "source": [
    "## Nested select statements\n",
    "age = int(input(\"please enter your age\"))\n",
    "if age <20"
   ]
  },
  {
   "cell_type": "code",
   "execution_count": 69,
   "metadata": {},
   "outputs": [],
   "source": [
    "## password\n",
    "password = \"letmein\"\n",
    "entry = input(\"please enter your password\")\n",
    "while entry != password:\n",
    "    print(\"incorrect password, please try again\")\n",
    "    entry = input(\"please enter you password\")"
   ]
  },
  {
   "cell_type": "code",
   "execution_count": 76,
   "metadata": {},
   "outputs": [
    {
     "name": "stdout",
     "output_type": "stream",
     "text": [
      "total: 6\n"
     ]
    }
   ],
   "source": [
    "total = 0\n",
    "\n",
    "while True:\n",
    "    number = int(input(\"please enter a number (0 to stop)\"))\n",
    "    if number ==0:\n",
    "        break\n",
    "    total+=number\n",
    "print(\"total:\", total)"
   ]
  }
 ],
 "metadata": {
  "kernelspec": {
   "display_name": "Python 3",
   "language": "python",
   "name": "python3"
  },
  "language_info": {
   "codemirror_mode": {
    "name": "ipython",
    "version": 3
   },
   "file_extension": ".py",
   "mimetype": "text/x-python",
   "name": "python",
   "nbconvert_exporter": "python",
   "pygments_lexer": "ipython3",
   "version": "3.12.1"
  }
 },
 "nbformat": 4,
 "nbformat_minor": 2
}
