{
 "cells": [
  {
   "cell_type": "code",
   "execution_count": 33,
   "metadata": {},
   "outputs": [],
   "source": [
    "## Array for lists\n",
    "\n",
    "\n",
    "# created a list\n",
    "my_list = [\"i\",\"d\",\"l\",\"e\"]\n"
   ]
  },
  {
   "cell_type": "code",
   "execution_count": 34,
   "metadata": {},
   "outputs": [
    {
     "name": "stdout",
     "output_type": "stream",
     "text": [
      "['i', 'd', 'l', 'e']\n"
     ]
    }
   ],
   "source": [
    "# print a list\n",
    "print(my_list)"
   ]
  },
  {
   "cell_type": "code",
   "execution_count": 32,
   "metadata": {},
   "outputs": [
    {
     "name": "stdout",
     "output_type": "stream",
     "text": [
      "['d', 'l', 'e']\n"
     ]
    }
   ],
   "source": [
    "# delete an item from my list\n",
    "del my_list[0:1]\n",
    "print (my_list)"
   ]
  },
  {
   "cell_type": "code",
   "execution_count": 36,
   "metadata": {},
   "outputs": [
    {
     "name": "stdout",
     "output_type": "stream",
     "text": [
      "['i', 'n', 'l', 'e']\n"
     ]
    }
   ],
   "source": [
    "# modify the list\n",
    "my_list[1] = \"n\"\n",
    "print(my_list)"
   ]
  },
  {
   "cell_type": "code",
   "execution_count": 37,
   "metadata": {},
   "outputs": [
    {
     "name": "stdout",
     "output_type": "stream",
     "text": [
      "['s', 'i', 'n', 'l', 'e']\n"
     ]
    }
   ],
   "source": [
    "# concatonated list\n",
    "new_list =[\"s\"] + my_list\n",
    "\n",
    "print(new_list)"
   ]
  },
  {
   "cell_type": "code",
   "execution_count": 38,
   "metadata": {},
   "outputs": [
    {
     "name": "stdout",
     "output_type": "stream",
     "text": [
      "['s', 'i', 'n', 'l', 'e', 'g']\n"
     ]
    }
   ],
   "source": [
    "# append goes to the end\n",
    "new_list.append(\"g\")\n",
    "print(new_list)"
   ]
  },
  {
   "cell_type": "code",
   "execution_count": 39,
   "metadata": {},
   "outputs": [
    {
     "name": "stdout",
     "output_type": "stream",
     "text": [
      "['s', 't', 'i', 'n', 'l', 'e', 'g']\n"
     ]
    }
   ],
   "source": [
    "# insert into list\n",
    "new_list.insert(1,\"t\")\n",
    "print(new_list)"
   ]
  },
  {
   "cell_type": "code",
   "execution_count": 46,
   "metadata": {},
   "outputs": [
    {
     "name": "stdout",
     "output_type": "stream",
     "text": [
      "s\n"
     ]
    }
   ],
   "source": [
    "#Import random\n",
    "import random\n",
    "letter = random.choice(new_list)\n",
    "print(letter)"
   ]
  },
  {
   "cell_type": "code",
   "execution_count": 48,
   "metadata": {},
   "outputs": [
    {
     "name": "stdout",
     "output_type": "stream",
     "text": [
      "[0, 1, 2, 3, 4, 5, 6]\n"
     ]
    }
   ],
   "source": [
    "#for loop\n",
    "final_list = []\n",
    "for i in new_list:\n",
    "    final_list.append(new_list.index(i))\n",
    "\n",
    "print(final_list)"
   ]
  },
  {
   "cell_type": "code",
   "execution_count": 49,
   "metadata": {},
   "outputs": [
    {
     "data": {
      "text/plain": [
       "21"
      ]
     },
     "execution_count": 49,
     "metadata": {},
     "output_type": "execute_result"
    }
   ],
   "source": [
    "#sum of final list\n",
    "sum(final_list)"
   ]
  },
  {
   "cell_type": "code",
   "execution_count": 50,
   "metadata": {},
   "outputs": [
    {
     "data": {
      "text/plain": [
       "7"
      ]
     },
     "execution_count": 50,
     "metadata": {},
     "output_type": "execute_result"
    }
   ],
   "source": [
    "#length of list\n",
    "len(final_list)"
   ]
  },
  {
   "cell_type": "code",
   "execution_count": 52,
   "metadata": {},
   "outputs": [
    {
     "name": "stdout",
     "output_type": "stream",
     "text": [
      "one\n"
     ]
    }
   ],
   "source": [
    "my_new_list = [\"one\",\"two\",\"three\"]\n",
    "print(my_new_list[0])"
   ]
  },
  {
   "cell_type": "code",
   "execution_count": 54,
   "metadata": {},
   "outputs": [
    {
     "name": "stdout",
     "output_type": "stream",
     "text": [
      "three\ttwo\tone\t"
     ]
    }
   ],
   "source": [
    "# reverse \n",
    "for x in reversed(my_new_list):\n",
    "    print(x, end=\"\\t\")\n"
   ]
  },
  {
   "cell_type": "code",
   "execution_count": null,
   "metadata": {},
   "outputs": [],
   "source": [
    "#initialise an empty list that the user will enter\n",
    "my_list =[]\n",
    "#get user to enter 10 intigers\n",
    "for x in range(1,11):\n",
    "    while True:\n",
    "        user_input = int(input(f\"please enter an intiger number #{x}:\"))\n",
    "        try:\n",
    "            num = int(user_input)\n",
    "            my_list.append(num)\n",
    "            break\n",
    "        except ValueError:\n",
    "            print(\"That is not a valid intiger. Please enter an intiger\")\n",
    "\n",
    "#Calculate the sum and average of the numbers\n",
    "total_sum = sum(my_list)\n",
    "average = total_sum/len(my_list)\n",
    "\n",
    "print(my_list)\n",
    "\n",
    "# output the result of the sum and average\n",
    "print(f\"the sum of the numbers is:{total_sum}\")\n",
    "print(f\"the average of the numbers is:{average}\")\n",
    "\n",
    "# display each of the numbers according to the proportion\n",
    "for num in my_list:\n",
    "    if num < average:\n",
    "        proportion = \"below\"\n",
    "    elif num > average:\n",
    "        proportion = \"above\"\n",
    "    else:\n",
    "        proportion = \"equal to\"\n",
    "    print(f\"{num} is {proportion} is average\")\n"
   ]
  },
  {
   "cell_type": "code",
   "execution_count": 73,
   "metadata": {},
   "outputs": [
    {
     "name": "stdout",
     "output_type": "stream",
     "text": [
      "W\n"
     ]
    }
   ],
   "source": [
    "my_string = \"Hello World\"\n",
    "print(my_string[6])"
   ]
  },
  {
   "cell_type": "code",
   "execution_count": 74,
   "metadata": {},
   "outputs": [
    {
     "name": "stdout",
     "output_type": "stream",
     "text": [
      "Hello\n"
     ]
    }
   ],
   "source": [
    "my_string = \"Hello World\"\n",
    "print(my_string[0:5])"
   ]
  },
  {
   "cell_type": "code",
   "execution_count": 76,
   "metadata": {},
   "outputs": [
    {
     "data": {
      "text/plain": [
       "'Cello'"
      ]
     },
     "execution_count": 76,
     "metadata": {},
     "output_type": "execute_result"
    }
   ],
   "source": [
    "\"C\" + my_string[1:5]"
   ]
  },
  {
   "cell_type": "code",
   "execution_count": 77,
   "metadata": {},
   "outputs": [
    {
     "data": {
      "text/plain": [
       "3.15"
      ]
     },
     "execution_count": 77,
     "metadata": {},
     "output_type": "execute_result"
    }
   ],
   "source": [
    "# Functions\n",
    "\n",
    "number = 3.1472\n",
    "round(number, 2)\n"
   ]
  },
  {
   "cell_type": "code",
   "execution_count": 80,
   "metadata": {},
   "outputs": [
    {
     "data": {
      "text/plain": [
       "4.1472"
      ]
     },
     "execution_count": 80,
     "metadata": {},
     "output_type": "execute_result"
    }
   ],
   "source": [
    "eval(\"number+1\")\n"
   ]
  },
  {
   "cell_type": "code",
   "execution_count": 91,
   "metadata": {},
   "outputs": [
    {
     "data": {
      "text/plain": [
       "4"
      ]
     },
     "execution_count": 91,
     "metadata": {},
     "output_type": "execute_result"
    }
   ],
   "source": [
    "import random\n",
    "random.randint(1,5)"
   ]
  },
  {
   "cell_type": "code",
   "execution_count": 93,
   "metadata": {},
   "outputs": [
    {
     "data": {
      "text/plain": [
       "16"
      ]
     },
     "execution_count": 93,
     "metadata": {},
     "output_type": "execute_result"
    }
   ],
   "source": [
    "## Define square function\n",
    "def square(number):\n",
    "    squaredNumber = number **2\n",
    "    return squaredNumber\n",
    "square(4)"
   ]
  },
  {
   "cell_type": "code",
   "execution_count": 94,
   "metadata": {},
   "outputs": [],
   "source": [
    "## define factorial\n",
    "def factorial(number):\n",
    "    if number == 0 or number == 1:\n",
    "        return 1\n",
    "    else:\n",
    "        result = 1\n",
    "        for x in range(1, number +1):\n",
    "            result *=x\n",
    "        return result"
   ]
  },
  {
   "cell_type": "code",
   "execution_count": 99,
   "metadata": {},
   "outputs": [
    {
     "data": {
      "text/plain": [
       "362880"
      ]
     },
     "execution_count": 99,
     "metadata": {},
     "output_type": "execute_result"
    }
   ],
   "source": [
    "factorial(9)"
   ]
  },
  {
   "cell_type": "code",
   "execution_count": 107,
   "metadata": {},
   "outputs": [],
   "source": [
    "#Pound to kg\n",
    "def convert_to_kg(pounds):\n",
    "    kilograms = pounds /2.2\n",
    "    return kilograms"
   ]
  },
  {
   "cell_type": "code",
   "execution_count": 108,
   "metadata": {},
   "outputs": [
    {
     "data": {
      "text/plain": [
       "2.2727272727272725"
      ]
     },
     "execution_count": 108,
     "metadata": {},
     "output_type": "execute_result"
    }
   ],
   "source": [
    "convert_to_kg(5)"
   ]
  },
  {
   "cell_type": "code",
   "execution_count": 109,
   "metadata": {},
   "outputs": [],
   "source": [
    "# convert degree to fahrenheit\n",
    "def convert_to_celcius(fahrenheit):\n",
    "    celcius =(fahrenheit - 32) *(5/9)\n",
    "    return celcius"
   ]
  },
  {
   "cell_type": "code",
   "execution_count": 110,
   "metadata": {},
   "outputs": [
    {
     "data": {
      "text/plain": [
       "37.77777777777778"
      ]
     },
     "execution_count": 110,
     "metadata": {},
     "output_type": "execute_result"
    }
   ],
   "source": [
    "convert_to_celcius(100)"
   ]
  },
  {
   "cell_type": "code",
   "execution_count": 124,
   "metadata": {},
   "outputs": [
    {
     "data": {
      "text/plain": [
       "'i am great'"
      ]
     },
     "execution_count": 124,
     "metadata": {},
     "output_type": "execute_result"
    }
   ],
   "source": [
    "## A global variable \n",
    "var = \"i am great\"\n",
    "\n",
    "## define a function to access the global variable\n",
    "def global_var(): \n",
    "    accessed_variable = var\n",
    "    return accessed_variable\n",
    "\n",
    "var"
   ]
  },
  {
   "cell_type": "code",
   "execution_count": 122,
   "metadata": {},
   "outputs": [
    {
     "name": "stdout",
     "output_type": "stream",
     "text": [
      "I am happy\n"
     ]
    }
   ],
   "source": [
    "## define a function\n",
    "def my_func():\n",
    "    local_var = \"I am happy\"\n",
    "    print(local_var)\n",
    "\n",
    "my_func()\n"
   ]
  },
  {
   "cell_type": "code",
   "execution_count": 123,
   "metadata": {},
   "outputs": [
    {
     "ename": "NameError",
     "evalue": "name 'local_var' is not defined",
     "output_type": "error",
     "traceback": [
      "\u001b[1;31m---------------------------------------------------------------------------\u001b[0m",
      "\u001b[1;31mNameError\u001b[0m                                 Traceback (most recent call last)",
      "Cell \u001b[1;32mIn[123], line 1\u001b[0m\n\u001b[1;32m----> 1\u001b[0m \u001b[43mlocal_var\u001b[49m\n",
      "\u001b[1;31mNameError\u001b[0m: name 'local_var' is not defined"
     ]
    }
   ],
   "source": [
    "local_var"
   ]
  },
  {
   "cell_type": "code",
   "execution_count": 127,
   "metadata": {},
   "outputs": [
    {
     "name": "stdout",
     "output_type": "stream",
     "text": [
      "red, tomatoes\n",
      "\n",
      "green, watermelon\n",
      "\n",
      "yellow, lemon\n",
      "\n",
      "purple, grape\n"
     ]
    }
   ],
   "source": [
    "##read text from a file\n",
    "\n",
    "with open(\"test.txt\", 'r') as file:\n",
    "    for line in file:\n",
    "        print(line)"
   ]
  },
  {
   "cell_type": "code",
   "execution_count": 130,
   "metadata": {},
   "outputs": [
    {
     "name": "stdout",
     "output_type": "stream",
     "text": [
      "red  tomatoes\n",
      "\n",
      "green  watermelon\n",
      "\n",
      "yellow  lemon\n",
      "\n",
      "purple  grape\n"
     ]
    }
   ],
   "source": [
    "## r split\n",
    "with open(\"test.txt\", 'r') as file:\n",
    "    for line in file:\n",
    "        line = line.split(\",\")\n",
    "        print(line[0].rstrip(), line[1])"
   ]
  },
  {
   "cell_type": "code",
   "execution_count": 134,
   "metadata": {},
   "outputs": [],
   "source": [
    "def save_to_file(first_name, surname, age):\n",
    "    with open(\"new_data.txt\", \"w\") as f:\n",
    "        line = \",\".join([first_name, surname, age])\n",
    "        f.write(line + \"\\n\")\n",
    "        f.close()\n",
    "first_name = input(\"Enter your first name: \")\n",
    "surname = input(\"Enter your surname: \")\n",
    "age = input(\"Enter your age: \")\n",
    "\n",
    "save_to_file(first_name, surname, age)"
   ]
  },
  {
   "cell_type": "code",
   "execution_count": 137,
   "metadata": {},
   "outputs": [
    {
     "name": "stdout",
     "output_type": "stream",
     "text": [
      "hey  nooo\n"
     ]
    }
   ],
   "source": [
    "##CSV\n",
    "import csv\n",
    "with open('csvfile.csv', \"r\") as csvfile:\n",
    "    reader = csv.reader(csvfile)\n",
    "    for line in reader:\n",
    "        print(line[0],line[2])"
   ]
  },
  {
   "cell_type": "code",
   "execution_count": 141,
   "metadata": {},
   "outputs": [],
   "source": [
    "## write to a csv file\n",
    "with open('joy.csv', mode= 'a') as csv_file:\n",
    "    character_writer = csv.writer(csv_file, delimiter= ',',quotechar='\"',quoting=csv.QUOTE_MINIMAL)\n",
    "    character_writer.writerow(['mango', 'gru'])\n",
    "    character_writer.writerow(['edith', 'gru'])\n",
    "    character_writer.writerow(['agnes', 'gru'])"
   ]
  },
  {
   "cell_type": "code",
   "execution_count": null,
   "metadata": {},
   "outputs": [],
   "source": [
    "import csv \n",
    "with open"
   ]
  }
 ],
 "metadata": {
  "kernelspec": {
   "display_name": "Python 3",
   "language": "python",
   "name": "python3"
  },
  "language_info": {
   "codemirror_mode": {
    "name": "ipython",
    "version": 3
   },
   "file_extension": ".py",
   "mimetype": "text/x-python",
   "name": "python",
   "nbconvert_exporter": "python",
   "pygments_lexer": "ipython3",
   "version": "3.12.1"
  }
 },
 "nbformat": 4,
 "nbformat_minor": 2
}
