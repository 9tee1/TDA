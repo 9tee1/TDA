{
 "cells": [
  {
   "cell_type": "code",
   "execution_count": null,
   "metadata": {},
   "outputs": [],
   "source": [
    "## Dice rolling simulator\n",
    "import random\n",
    "while True:\n",
    "    choice = input(\"would you like to roll the die? (yes or no)\")\n",
    "    if choice != \"yes\":\n",
    "        if choice == \"no\":\n",
    "            print(\"Thanks for playing\")\n",
    "            break\n",
    "    random.randint(1,12)\n",
    "    print(random.randint(1,12))\n"
   ]
  }
 ],
 "metadata": {
  "language_info": {
   "name": "python"
  }
 },
 "nbformat": 4,
 "nbformat_minor": 2
}
