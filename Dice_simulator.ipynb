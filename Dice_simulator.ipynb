{
 "cells": [
  {
   "cell_type": "code",
   "execution_count": null,
   "metadata": {},
   "outputs": [],
   "source": [
    "## Dice rolling simulator\n",
    "## Import random intiger function\n",
    "import random\n",
    "# Create loop\n",
    "while True:\n",
    "    # Define the choice and ask the user if they want to roll the die\n",
    "    choice = input(\"Welcome, would you like to roll the die? (yes or no)\")\n",
    "    if choice != \"yes\":\n",
    "        #Break if user chooses no\n",
    "        if choice == \"no\":\n",
    "            print(\"Thanks for playing\")\n",
    "            #Add break after the message or else message will not be displayed\n",
    "            break\n",
    "    # define the range = how many sides to the die\n",
    "    random.randint(1,12)\n",
    "    print(random.randint(1,12))\n"
   ]
  }
 ],
 "metadata": {
  "language_info": {
   "name": "python"
  }
 },
 "nbformat": 4,
 "nbformat_minor": 2
}
