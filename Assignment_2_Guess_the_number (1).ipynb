{
 "cells": [
  {
   "cell_type": "code",
   "execution_count": 1,
   "metadata": {},
   "outputs": [
    {
     "name": "stdout",
     "output_type": "stream",
     "text": [
      "Let's play a game!\n",
      "Your guess 60 is too low!\n"
     ]
    },
    {
     "ename": "ValueError",
     "evalue": "invalid literal for int() with base 10: ''",
     "output_type": "error",
     "traceback": [
      "\u001b[1;31m---------------------------------------------------------------------------\u001b[0m",
      "\u001b[1;31mValueError\u001b[0m                                Traceback (most recent call last)",
      "Cell \u001b[1;32mIn[1], line 22\u001b[0m\n\u001b[0;32m     20\u001b[0m \u001b[38;5;28;01melif\u001b[39;00m guess \u001b[38;5;241m<\u001b[39m result: \u001b[38;5;66;03m#check if guess is too low\u001b[39;00m\n\u001b[0;32m     21\u001b[0m     \u001b[38;5;28mprint\u001b[39m(\u001b[38;5;124mf\u001b[39m\u001b[38;5;124m\"\u001b[39m\u001b[38;5;124mYour guess \u001b[39m\u001b[38;5;132;01m{\u001b[39;00mguess\u001b[38;5;132;01m}\u001b[39;00m\u001b[38;5;124m is too low!\u001b[39m\u001b[38;5;124m\"\u001b[39m)\n\u001b[1;32m---> 22\u001b[0m     guess \u001b[38;5;241m=\u001b[39m \u001b[38;5;28;43mint\u001b[39;49m\u001b[43m(\u001b[49m\u001b[38;5;28;43minput\u001b[39;49m\u001b[43m(\u001b[49m\u001b[38;5;124;43m\"\u001b[39;49m\u001b[38;5;124;43mToo low! guess again!\u001b[39;49m\u001b[38;5;124;43m\"\u001b[39;49m\u001b[43m)\u001b[49m\u001b[43m)\u001b[49m\n\u001b[0;32m     23\u001b[0m \u001b[38;5;28;01melse\u001b[39;00m: \n\u001b[0;32m     24\u001b[0m     \u001b[38;5;28mprint\u001b[39m(\u001b[38;5;124mf\u001b[39m\u001b[38;5;124m\"\u001b[39m\u001b[38;5;124mWahoo!! You guessed right! The secret number is \u001b[39m\u001b[38;5;132;01m{\u001b[39;00mresult\u001b[38;5;132;01m}\u001b[39;00m\u001b[38;5;124m!\u001b[39m\u001b[38;5;124m\"\u001b[39m)\n",
      "\u001b[1;31mValueError\u001b[0m: invalid literal for int() with base 10: ''"
     ]
    }
   ],
   "source": [
    "'''first iteration'''\n",
    "\n",
    "import random #load random module\n",
    "\n",
    "# set our range of number by creating variables\n",
    "min = 1\n",
    "max = 99\n",
    "\n",
    "# Signify the start of the game\n",
    "print(\"Let's play a game!\")\n",
    "\n",
    "# generate the number in secret\n",
    "result = random.randint(min, max)\n",
    "\n",
    "# Request the user to enter their guess as to what the number may be\n",
    "guess = int(input(f\"I've generated a secret number between {min} and {max}, can you guess what it is?\"))\n",
    "\n",
    "# Iterate through guesses until secret number found\n",
    "while True:\n",
    "    if guess > result:\n",
    "        print(f\"Your guess of {guess} is too high!\")\n",
    "        guess = int(input(f\"{guess} too high! guess again!\")) \n",
    "    elif guess < result: \n",
    "        print(f\"Your guess of {guess} is too low!\") \n",
    "        guess = int(input(f\"{guess} too low! guess again!\")) \n",
    "    else: \n",
    "        print(f\"Wahoo!! You guessed right! The secret number is {result}!\")\n",
    "        break \n",
    "\n",
    "    "
   ]
  },
  {
   "cell_type": "code",
   "execution_count": 7,
   "metadata": {},
   "outputs": [
    {
     "name": "stdout",
     "output_type": "stream",
     "text": [
      "Let's play a game!\n",
      "Your guess 50 is too low!\n",
      "Your guess 60 is too high!\n",
      "Your guess 55 is too low!\n",
      "Your guess 56 is too low!\n",
      "Your guess 57 is too low!\n",
      "Wahoo!! You guessed right! The secret number is 58!\n"
     ]
    }
   ],
   "source": [
    "## improved by adding a function for the use to input their guess\n",
    "## and using it and the end of the while loop instead of nesting it \n",
    "## inside multiple times for the user to guess again\n",
    "\n",
    "'''2nd iteration --- re-written with incorrect input redundancy and use of functions however this does not display an input \n",
    "message advising the previous guess or whether it was high or low. instead this is stated as print() only'''\n",
    "\n",
    "#load random module\n",
    "import random\n",
    "\n",
    "# Set our range of number by creating variables\n",
    "min = 1\n",
    "max = 99\n",
    "\n",
    "# Signify the start of the game\n",
    "print(\"Let's play a game!\")\n",
    "\n",
    "# Generate the number in secret\n",
    "result = random.randint(min, max)\n",
    "\n",
    "def get_guess():\n",
    "    while True:\n",
    "        try:\n",
    "            # Request the user to enter their guess\n",
    "            return int(input(f\"Guess a number between {min} and {max}: \"))\n",
    "        except ValueError: # if there is a value error:\n",
    "            print(\"That's not a valid integer. Please try again.\") \n",
    "\n",
    "# Request the user to enter their first guess\n",
    "guess = get_guess()\n",
    "\n",
    "# Iterate through guesses until secret number found\n",
    "while True:\n",
    "    if guess > result:\n",
    "        print(f\"Your guess {guess} is too high!\") \n",
    "    elif guess < result:\n",
    "        print(f\"Your guess {guess} is too low!\") \n",
    "    else:\n",
    "        print(f\"Wahoo!! You guessed right! The secret number is {result}!\")\n",
    "        break\n",
    "\n",
    "    # Get the next guess if guess is too high or too low\n",
    "    guess = get_guess()"
   ]
  },
  {
   "cell_type": "code",
   "execution_count": 1,
   "metadata": {},
   "outputs": [
    {
     "name": "stdout",
     "output_type": "stream",
     "text": [
      "Let's play a game!\n",
      "That's not a valid integer. Please try again.\n",
      "That's not a valid integer. Please try again.\n",
      "That's not a valid integer. Please try again.\n",
      "That's not a valid integer. Please try again.\n",
      "That's not a valid integer. Please try again.\n",
      "That's not a valid integer. Please try again.\n",
      "That's not a valid integer. Please try again.\n",
      "That's not a valid integer. Please try again.\n",
      "That's not a valid integer. Please try again.\n",
      "That's not a valid integer. Please try again.\n",
      "That's not a valid integer. Please try again.\n",
      "That's not a valid integer. Please try again.\n"
     ]
    },
    {
     "ename": "KeyboardInterrupt",
     "evalue": "Interrupted by user",
     "output_type": "error",
     "traceback": [
      "\u001b[1;31m---------------------------------------------------------------------------\u001b[0m",
      "\u001b[1;31mKeyboardInterrupt\u001b[0m                         Traceback (most recent call last)",
      "Cell \u001b[1;32mIn[1], line 27\u001b[0m\n\u001b[0;32m     24\u001b[0m             \u001b[38;5;28mprint\u001b[39m(\u001b[38;5;124m\"\u001b[39m\u001b[38;5;124mThat\u001b[39m\u001b[38;5;124m'\u001b[39m\u001b[38;5;124ms not a valid integer. Please try again.\u001b[39m\u001b[38;5;124m\"\u001b[39m)\n\u001b[0;32m     26\u001b[0m \u001b[38;5;66;03m# Request the user to enter their first guess\u001b[39;00m\n\u001b[1;32m---> 27\u001b[0m guess \u001b[38;5;241m=\u001b[39m \u001b[43mget_guess\u001b[49m\u001b[43m(\u001b[49m\u001b[43m)\u001b[49m\n\u001b[0;32m     29\u001b[0m \u001b[38;5;66;03m# Iterate through guesses until secret number found\u001b[39;00m\n\u001b[0;32m     30\u001b[0m \u001b[38;5;28;01mwhile\u001b[39;00m \u001b[38;5;28;01mTrue\u001b[39;00m:  \u001b[38;5;66;03m# Commence loop\u001b[39;00m\n",
      "Cell \u001b[1;32mIn[1], line 19\u001b[0m, in \u001b[0;36mget_guess\u001b[1;34m(first_attempt, message)\u001b[0m\n\u001b[0;32m     16\u001b[0m \u001b[38;5;28;01mwhile\u001b[39;00m \u001b[38;5;28;01mTrue\u001b[39;00m:  \n\u001b[0;32m     17\u001b[0m     \u001b[38;5;66;03m# Request the user to enter their guess\u001b[39;00m\n\u001b[0;32m     18\u001b[0m     prompt \u001b[38;5;241m=\u001b[39m \u001b[38;5;124mf\u001b[39m\u001b[38;5;124m\"\u001b[39m\u001b[38;5;124mGuess a number between \u001b[39m\u001b[38;5;132;01m{\u001b[39;00m\u001b[38;5;28mmin\u001b[39m\u001b[38;5;132;01m}\u001b[39;00m\u001b[38;5;124m and \u001b[39m\u001b[38;5;132;01m{\u001b[39;00m\u001b[38;5;28mmax\u001b[39m\u001b[38;5;132;01m}\u001b[39;00m\u001b[38;5;124m or type \u001b[39m\u001b[38;5;124m'\u001b[39m\u001b[38;5;124mexit\u001b[39m\u001b[38;5;124m'\u001b[39m\u001b[38;5;124m to quit: \u001b[39m\u001b[38;5;124m\"\u001b[39m \u001b[38;5;28;01mif\u001b[39;00m first_attempt \u001b[38;5;28;01melse\u001b[39;00m message\n\u001b[1;32m---> 19\u001b[0m     user_input \u001b[38;5;241m=\u001b[39m \u001b[38;5;28;43minput\u001b[39;49m\u001b[43m(\u001b[49m\u001b[43mprompt\u001b[49m\u001b[43m)\u001b[49m\n\u001b[0;32m     21\u001b[0m     \u001b[38;5;28;01mif\u001b[39;00m user_input\u001b[38;5;241m.\u001b[39misdigit(): \u001b[38;5;66;03m# Checks if input is a digit\u001b[39;00m\n\u001b[0;32m     22\u001b[0m         \u001b[38;5;28;01mreturn\u001b[39;00m \u001b[38;5;28mint\u001b[39m(user_input)\n",
      "File \u001b[1;32m~\\AppData\\Roaming\\Python\\Python312\\site-packages\\ipykernel\\kernelbase.py:1262\u001b[0m, in \u001b[0;36mKernel.raw_input\u001b[1;34m(self, prompt)\u001b[0m\n\u001b[0;32m   1260\u001b[0m     msg \u001b[38;5;241m=\u001b[39m \u001b[38;5;124m\"\u001b[39m\u001b[38;5;124mraw_input was called, but this frontend does not support input requests.\u001b[39m\u001b[38;5;124m\"\u001b[39m\n\u001b[0;32m   1261\u001b[0m     \u001b[38;5;28;01mraise\u001b[39;00m StdinNotImplementedError(msg)\n\u001b[1;32m-> 1262\u001b[0m \u001b[38;5;28;01mreturn\u001b[39;00m \u001b[38;5;28;43mself\u001b[39;49m\u001b[38;5;241;43m.\u001b[39;49m\u001b[43m_input_request\u001b[49m\u001b[43m(\u001b[49m\n\u001b[0;32m   1263\u001b[0m \u001b[43m    \u001b[49m\u001b[38;5;28;43mstr\u001b[39;49m\u001b[43m(\u001b[49m\u001b[43mprompt\u001b[49m\u001b[43m)\u001b[49m\u001b[43m,\u001b[49m\n\u001b[0;32m   1264\u001b[0m \u001b[43m    \u001b[49m\u001b[38;5;28;43mself\u001b[39;49m\u001b[38;5;241;43m.\u001b[39;49m\u001b[43m_parent_ident\u001b[49m\u001b[43m[\u001b[49m\u001b[38;5;124;43m\"\u001b[39;49m\u001b[38;5;124;43mshell\u001b[39;49m\u001b[38;5;124;43m\"\u001b[39;49m\u001b[43m]\u001b[49m\u001b[43m,\u001b[49m\n\u001b[0;32m   1265\u001b[0m \u001b[43m    \u001b[49m\u001b[38;5;28;43mself\u001b[39;49m\u001b[38;5;241;43m.\u001b[39;49m\u001b[43mget_parent\u001b[49m\u001b[43m(\u001b[49m\u001b[38;5;124;43m\"\u001b[39;49m\u001b[38;5;124;43mshell\u001b[39;49m\u001b[38;5;124;43m\"\u001b[39;49m\u001b[43m)\u001b[49m\u001b[43m,\u001b[49m\n\u001b[0;32m   1266\u001b[0m \u001b[43m    \u001b[49m\u001b[43mpassword\u001b[49m\u001b[38;5;241;43m=\u001b[39;49m\u001b[38;5;28;43;01mFalse\u001b[39;49;00m\u001b[43m,\u001b[49m\n\u001b[0;32m   1267\u001b[0m \u001b[43m\u001b[49m\u001b[43m)\u001b[49m\n",
      "File \u001b[1;32m~\\AppData\\Roaming\\Python\\Python312\\site-packages\\ipykernel\\kernelbase.py:1305\u001b[0m, in \u001b[0;36mKernel._input_request\u001b[1;34m(self, prompt, ident, parent, password)\u001b[0m\n\u001b[0;32m   1302\u001b[0m \u001b[38;5;28;01mexcept\u001b[39;00m \u001b[38;5;167;01mKeyboardInterrupt\u001b[39;00m:\n\u001b[0;32m   1303\u001b[0m     \u001b[38;5;66;03m# re-raise KeyboardInterrupt, to truncate traceback\u001b[39;00m\n\u001b[0;32m   1304\u001b[0m     msg \u001b[38;5;241m=\u001b[39m \u001b[38;5;124m\"\u001b[39m\u001b[38;5;124mInterrupted by user\u001b[39m\u001b[38;5;124m\"\u001b[39m\n\u001b[1;32m-> 1305\u001b[0m     \u001b[38;5;28;01mraise\u001b[39;00m \u001b[38;5;167;01mKeyboardInterrupt\u001b[39;00m(msg) \u001b[38;5;28;01mfrom\u001b[39;00m \u001b[38;5;28;01mNone\u001b[39;00m\n\u001b[0;32m   1306\u001b[0m \u001b[38;5;28;01mexcept\u001b[39;00m \u001b[38;5;167;01mException\u001b[39;00m:\n\u001b[0;32m   1307\u001b[0m     \u001b[38;5;28mself\u001b[39m\u001b[38;5;241m.\u001b[39mlog\u001b[38;5;241m.\u001b[39mwarning(\u001b[38;5;124m\"\u001b[39m\u001b[38;5;124mInvalid Message:\u001b[39m\u001b[38;5;124m\"\u001b[39m, exc_info\u001b[38;5;241m=\u001b[39m\u001b[38;5;28;01mTrue\u001b[39;00m)\n",
      "\u001b[1;31mKeyboardInterrupt\u001b[0m: Interrupted by user"
     ]
    }
   ],
   "source": [
    "'''3rd itteration is digit instead of ValueError check get_guess function now functional for initial input and follow up inputs'''\n",
    "\n",
    "import random\n",
    "\n",
    "# Set our range of numbers by creating variables\n",
    "min = 1\n",
    "max = 99\n",
    "\n",
    "# Signify the start of the game\n",
    "print(\"Let's play a game!\")\n",
    "\n",
    "# Generate the number in secret\n",
    "result = random.randint(min, max)\n",
    "\n",
    "def get_guess(first_attempt = True, message=''):\n",
    "    while True:  \n",
    "        # Request the user to enter their guess\n",
    "        prompt = f\"Guess a number between {min} and {max} or type 'exit' to quit: \" if first_attempt else message\n",
    "        user_input = input(prompt)\n",
    "\n",
    "        if user_input.isdigit(): # Checks if input is a digit\n",
    "            return int(user_input)\n",
    "        else:\n",
    "            print(\"That's not a valid integer. Please try again.\")\n",
    "\n",
    "# Request the user to enter their first guess\n",
    "guess = get_guess()\n",
    "\n",
    "# Iterate through guesses until secret number found\n",
    "while True:  # Commence loop\n",
    "    if guess > result:\n",
    "        print(f\"Your guess {guess} is too high!\")\n",
    "        guess = get_guess(False, f\"Your guess {guess} is too high! Try again:\")\n",
    "    elif guess < result:\n",
    "        print(f\"Your guess {guess} is too low!\")\n",
    "        guess = get_guess(False, f\"Your guess {guess} is too low! Try again:\")\n",
    "    else: \n",
    "        print(f\"Wahoo!! You guessed right! The secret number is {result}!\")\n",
    "        break "
   ]
  }
 ],
 "metadata": {
  "kernelspec": {
   "display_name": "Python 3",
   "language": "python",
   "name": "python3"
  },
  "language_info": {
   "codemirror_mode": {
    "name": "ipython",
    "version": 3
   },
   "file_extension": ".py",
   "mimetype": "text/x-python",
   "name": "python",
   "nbconvert_exporter": "python",
   "pygments_lexer": "ipython3",
   "version": "3.12.1"
  }
 },
 "nbformat": 4,
 "nbformat_minor": 2
}
