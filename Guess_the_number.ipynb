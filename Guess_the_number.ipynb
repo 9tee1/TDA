{
 "cells": [
  {
   "cell_type": "code",
   "execution_count": null,
   "metadata": {},
   "outputs": [],
   "source": [
    "#Guess the number game\n",
    "#Import random module\n",
    "\n",
    "import random\n",
    "\n",
    "# Set our range of numbers by creating variables\n",
    "min = 1\n",
    "max = 99\n",
    "\n",
    "# Signify the start of the game\n",
    "print(\"Let's play a game!\")\n",
    "\n",
    "# Generate the number in secret\n",
    "result = random.randint(min, max)\n",
    "\n",
    "def get_guess(first_attempt = True, message=''):\n",
    "    while True:  \n",
    "        # Request the user to enter their guess\n",
    "        prompt = f\"Guess a number between {min} and {max} or type 'exit' to quit: \" if first_attempt else message\n",
    "        user_input = input(prompt)\n",
    "\n",
    "        if user_input.isdigit(): # Checks if input is a digit\n",
    "            return int(user_input)\n",
    "        else:\n",
    "            print(\"That's not a valid integer. Please try again.\")\n",
    "\n",
    "# Request the user to enter their first guess\n",
    "guess = get_guess()\n",
    "\n",
    "# Iterate through guesses until secret number found\n",
    "while True:  # Commence loop\n",
    "    if guess > result:\n",
    "        print(f\"Your guess {guess} is too high!\")\n",
    "        guess = get_guess(False, f\"Your guess {guess} is too high! Try again:\")\n",
    "    elif guess < result:\n",
    "        print(f\"Your guess {guess} is too low!\")\n",
    "        guess = get_guess(False, f\"Your guess {guess} is too low! Try again:\")\n",
    "    else: \n",
    "        print(f\"Wahoo!! You guessed right! The secret number is {result}!\")\n",
    "        break "
   ]
  }
 ],
 "metadata": {
  "language_info": {
   "name": "python"
  }
 },
 "nbformat": 4,
 "nbformat_minor": 2
}
