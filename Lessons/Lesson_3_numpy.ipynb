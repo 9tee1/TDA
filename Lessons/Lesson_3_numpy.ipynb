{
 "cells": [
  {
   "cell_type": "code",
   "execution_count": 4,
   "metadata": {},
   "outputs": [
    {
     "name": "stdout",
     "output_type": "stream",
     "text": [
      "[1 2 3]\n"
     ]
    }
   ],
   "source": [
    "import numpy as np\n",
    "\n"
   ]
  },
  {
   "cell_type": "code",
   "execution_count": 6,
   "metadata": {},
   "outputs": [
    {
     "name": "stdout",
     "output_type": "stream",
     "text": [
      "[1 2 3]\n"
     ]
    }
   ],
   "source": [
    "#1-dimentiaonal array 1x3, [1,2,3]:\n",
    "\n",
    "my1dArray = np.array([1,2,3])\n",
    "\n",
    "print(my1dArray)"
   ]
  },
  {
   "cell_type": "code",
   "execution_count": 5,
   "metadata": {},
   "outputs": [
    {
     "name": "stdout",
     "output_type": "stream",
     "text": [
      "[[1 2 3]\n",
      " [4 5 6]]\n"
     ]
    }
   ],
   "source": [
    "#2-dimentiaonal array 2x3, [1,2,3]:\n",
    "my2dArray = np.array([[1,2,3],[4,5,6]])\n",
    "print(my2dArray)"
   ]
  },
  {
   "cell_type": "code",
   "execution_count": 7,
   "metadata": {},
   "outputs": [
    {
     "data": {
      "text/plain": [
       "dtype('int32')"
      ]
     },
     "execution_count": 7,
     "metadata": {},
     "output_type": "execute_result"
    }
   ],
   "source": [
    "my1dArray.dtype"
   ]
  },
  {
   "cell_type": "code",
   "execution_count": 8,
   "metadata": {},
   "outputs": [
    {
     "data": {
      "text/plain": [
       "dtype('int32')"
      ]
     },
     "execution_count": 8,
     "metadata": {},
     "output_type": "execute_result"
    }
   ],
   "source": [
    "my2dArray.dtype"
   ]
  },
  {
   "cell_type": "code",
   "execution_count": 12,
   "metadata": {},
   "outputs": [
    {
     "name": "stdout",
     "output_type": "stream",
     "text": [
      "[[1. 2. 3.]\n",
      " [4. 5. 6.]]\n"
     ]
    }
   ],
   "source": [
    "## specifiying hte data type\n",
    "my2dArrayfloat = np.array([[1,2,3],[4,5,6]], dtype=np.float32)\n",
    "print(my2dArrayfloat)"
   ]
  },
  {
   "cell_type": "code",
   "execution_count": 13,
   "metadata": {},
   "outputs": [
    {
     "data": {
      "text/plain": [
       "dtype('float32')"
      ]
     },
     "execution_count": 13,
     "metadata": {},
     "output_type": "execute_result"
    }
   ],
   "source": [
    "my2dArrayfloat.dtype"
   ]
  },
  {
   "cell_type": "code",
   "execution_count": 16,
   "metadata": {},
   "outputs": [
    {
     "name": "stdout",
     "output_type": "stream",
     "text": [
      "[['1' 'a' '3']\n",
      " ['4' '5' 'zzz']]\n"
     ]
    },
    {
     "data": {
      "text/plain": [
       "dtype('<U11')"
      ]
     },
     "execution_count": 16,
     "metadata": {},
     "output_type": "execute_result"
    }
   ],
   "source": [
    "# NumPy fundamentals\n",
    "#combination of intiger and string\n",
    "charArray1 = np.array([(1,'a',3),(4, 5, 'zzz')])\n",
    "\n",
    "print(charArray1)\n",
    "charArray1.dtype"
   ]
  },
  {
   "cell_type": "code",
   "execution_count": 20,
   "metadata": {},
   "outputs": [
    {
     "name": "stdout",
     "output_type": "stream",
     "text": [
      "[[0 0 0]\n",
      " [0 0 0]]\n"
     ]
    }
   ],
   "source": [
    "#Numpy array initialisation\n",
    "number_rows = 2\n",
    "number_columns = 3\n",
    "\n",
    "## array of zeros\n",
    "array0s = np.zeros((number_rows, number_columns), dtype=np.int32)\n",
    "print(array0s)"
   ]
  },
  {
   "cell_type": "code",
   "execution_count": 28,
   "metadata": {},
   "outputs": [
    {
     "name": "stdout",
     "output_type": "stream",
     "text": [
      "[[0 0 0 0 0]\n",
      " [0 0 0 0 0]\n",
      " [0 0 0 0 0]]\n"
     ]
    }
   ],
   "source": [
    "## array of zeros\n",
    "array0s = np.zeros((3, 5), dtype=np.int32)\n",
    "print(array0s)"
   ]
  },
  {
   "cell_type": "code",
   "execution_count": 38,
   "metadata": {},
   "outputs": [
    {
     "name": "stdout",
     "output_type": "stream",
     "text": [
      "[[1 1 1 1 1]\n",
      " [1 1 1 1 1]\n",
      " [1 1 1 1 1]]\n"
     ]
    }
   ],
   "source": [
    "## array of ones\n",
    "array1s = np.ones((3, 5), dtype=np.int32)\n",
    "print(array1s)"
   ]
  },
  {
   "cell_type": "code",
   "execution_count": 40,
   "metadata": {},
   "outputs": [
    {
     "name": "stdout",
     "output_type": "stream",
     "text": [
      "[[5 5 5 5 5]\n",
      " [5 5 5 5 5]\n",
      " [5 5 5 5 5]]\n"
     ]
    },
    {
     "data": {
      "text/plain": [
       "dtype('int32')"
      ]
     },
     "execution_count": 40,
     "metadata": {},
     "output_type": "execute_result"
    }
   ],
   "source": [
    "## array of fives\n",
    "array5s = 4 + np.ones((3, 5), dtype=np.int32)\n",
    "print(array5s)\n",
    "array5s.dtype"
   ]
  },
  {
   "cell_type": "code",
   "execution_count": 42,
   "metadata": {},
   "outputs": [
    {
     "name": "stdout",
     "output_type": "stream",
     "text": [
      "[[7 7 7]\n",
      " [7 7 7]]\n"
     ]
    },
    {
     "data": {
      "text/plain": [
       "dtype('int32')"
      ]
     },
     "execution_count": 42,
     "metadata": {},
     "output_type": "execute_result"
    }
   ],
   "source": [
    "## Array of sevens\n",
    "array7s = np.full((number_rows,number_columns), 7)\n",
    "print(array7s)\n",
    "array7s.dtype"
   ]
  },
  {
   "cell_type": "code",
   "execution_count": 50,
   "metadata": {},
   "outputs": [
    {
     "name": "stdout",
     "output_type": "stream",
     "text": [
      "[10 13 16 19 22 25]\n"
     ]
    }
   ],
   "source": [
    "##Array of evenly spaced values\n",
    "start= 10\n",
    "end= 27  ### last number gets ignored\n",
    "step= 3\n",
    "evenlystep= np.arange(start, end, step)\n",
    "print(evenlystep)"
   ]
  },
  {
   "cell_type": "code",
   "execution_count": 52,
   "metadata": {},
   "outputs": [
    {
     "name": "stdout",
     "output_type": "stream",
     "text": [
      "[10.         15.66666667 21.33333333 27.        ]\n"
     ]
    },
    {
     "data": {
      "text/plain": [
       "dtype('float64')"
      ]
     },
     "execution_count": 52,
     "metadata": {},
     "output_type": "execute_result"
    }
   ],
   "source": [
    "## this is generating equally spaced numbers\n",
    "number_samples = 4\n",
    "evenlysample = np.linspace(start,end,number_samples)\n",
    "print(evenlysample)\n",
    "evenlysample.dtype"
   ]
  },
  {
   "cell_type": "code",
   "execution_count": 55,
   "metadata": {},
   "outputs": [
    {
     "name": "stdout",
     "output_type": "stream",
     "text": [
      "[[1. 0. 0. 0.]\n",
      " [0. 1. 0. 0.]\n",
      " [0. 0. 1. 0.]\n",
      " [0. 0. 0. 1.]]\n"
     ]
    },
    {
     "data": {
      "text/plain": [
       "dtype('float64')"
      ]
     },
     "execution_count": 55,
     "metadata": {},
     "output_type": "execute_result"
    }
   ],
   "source": [
    "#identity matrix between 0 an 1\n",
    "identity = np.eye(4)\n",
    "print(identity)\n",
    "identity.dtype"
   ]
  },
  {
   "cell_type": "code",
   "execution_count": 64,
   "metadata": {},
   "outputs": [
    {
     "name": "stdout",
     "output_type": "stream",
     "text": [
      "[[0.2122983  0.46461137 0.00363528 0.99290716 0.77842269 0.46658012]\n",
      " [0.49726152 0.54771961 0.28256926 0.94149037 0.01946548 0.86659848]\n",
      " [0.54380387 0.85906973 0.23237332 0.71339554 0.55492382 0.30549793]\n",
      " [0.99395567 0.41790268 0.8267948  0.62764078 0.23345755 0.96731656]]\n"
     ]
    },
    {
     "data": {
      "text/plain": [
       "dtype('float64')"
      ]
     },
     "execution_count": 64,
     "metadata": {},
     "output_type": "execute_result"
    }
   ],
   "source": [
    "# generate floating numbers between 0 and 1 (1 not included)using random\n",
    "random01=np.random.random((4, 6))\n",
    "print(random01)\n",
    "random01.dtype"
   ]
  },
  {
   "cell_type": "code",
   "execution_count": 66,
   "metadata": {},
   "outputs": [
    {
     "name": "stdout",
     "output_type": "stream",
     "text": [
      "[[ 3  5 10]\n",
      " [ 2  8  3]]\n"
     ]
    }
   ],
   "source": [
    "##random.randint\n",
    "#print int numbers specified with last value not inclusive \n",
    "randomintRange = np.random.randint(0,11,(2,3))\n",
    "print(randomintRange)"
   ]
  },
  {
   "cell_type": "code",
   "execution_count": 69,
   "metadata": {},
   "outputs": [
    {
     "name": "stdout",
     "output_type": "stream",
     "text": [
      "[[5 6 3]\n",
      " [2 5 1]]\n",
      "a has dimension:  2\n",
      "a has shape:  (2, 3)\n",
      "a has size:  6\n",
      "a has data type:  int32\n"
     ]
    }
   ],
   "source": [
    "#NumPy Array inspection, indexing and slicing\n",
    "a = np.array([[5,6,3], [2,5,1]])\n",
    "print(a)\n",
    "print('a has dimension: ', a.ndim)\n",
    "print('a has shape: ', a.shape)\n",
    "print('a has size: ', a.size)\n",
    "print('a has data type: ', a.dtype)\n",
    "\n"
   ]
  },
  {
   "cell_type": "code",
   "execution_count": 71,
   "metadata": {},
   "outputs": [
    {
     "name": "stdout",
     "output_type": "stream",
     "text": [
      "3\n"
     ]
    }
   ],
   "source": [
    "##indexing arrays\n",
    "print(a[0,2])"
   ]
  },
  {
   "cell_type": "code",
   "execution_count": 78,
   "metadata": {},
   "outputs": [
    {
     "data": {
      "text/plain": [
       "array([2, 5])"
      ]
     },
     "execution_count": 78,
     "metadata": {},
     "output_type": "execute_result"
    }
   ],
   "source": [
    "## indexing multiple values\n",
    "a[1,:2]"
   ]
  },
  {
   "cell_type": "code",
   "execution_count": 79,
   "metadata": {},
   "outputs": [
    {
     "data": {
      "text/plain": [
       "array([5, 5])"
      ]
     },
     "execution_count": 79,
     "metadata": {},
     "output_type": "execute_result"
    }
   ],
   "source": [
    "np.diag(a)"
   ]
  },
  {
   "cell_type": "code",
   "execution_count": 81,
   "metadata": {},
   "outputs": [
    {
     "name": "stdout",
     "output_type": "stream",
     "text": [
      "[[5 6 3]\n",
      " [2 5 1]\n",
      " [4 4 4]]\n"
     ]
    }
   ],
   "source": [
    "b=np.array([[5,6,3],[2,5,1],[4,4,4]])\n",
    "print(b)"
   ]
  },
  {
   "cell_type": "code",
   "execution_count": 82,
   "metadata": {},
   "outputs": [
    {
     "data": {
      "text/plain": [
       "array([5, 5, 4])"
      ]
     },
     "execution_count": 82,
     "metadata": {},
     "output_type": "execute_result"
    }
   ],
   "source": [
    "np.diag(b)"
   ]
  },
  {
   "cell_type": "code",
   "execution_count": 87,
   "metadata": {},
   "outputs": [
    {
     "data": {
      "text/plain": [
       "array([3, 5, 4])"
      ]
     },
     "execution_count": 87,
     "metadata": {},
     "output_type": "execute_result"
    }
   ],
   "source": [
    "#inverse diagonal\n",
    "np.diag(np.fliplr(b))\n"
   ]
  },
  {
   "cell_type": "code",
   "execution_count": 89,
   "metadata": {},
   "outputs": [
    {
     "name": "stdout",
     "output_type": "stream",
     "text": [
      "[ 0  2  4 -5 -3 -7  8 -9 -5 -1]\n"
     ]
    }
   ],
   "source": [
    "arr = np.array([0,2,4,5,3,7,8,9,5,1])\n",
    "\n",
    "for i in range(len(arr)):\n",
    "    if arr[i] % 2 ==1:\n",
    "        arr[i] = -arr[i]\n",
    "\n",
    "print(arr)\n"
   ]
  },
  {
   "cell_type": "code",
   "execution_count": 90,
   "metadata": {},
   "outputs": [
    {
     "name": "stdout",
     "output_type": "stream",
     "text": [
      "[ 0  2  4 -5 -3 -7  8 -9 -5 -1]\n"
     ]
    }
   ],
   "source": [
    "arr = np.array([0,2,4,5,3,7,8,9,5,1])\n",
    "\n",
    "odd_num= np.where(arr % 2 == 1)\n",
    "\n",
    "arr[odd_num] *=-1\n",
    "print(arr)"
   ]
  },
  {
   "cell_type": "code",
   "execution_count": 92,
   "metadata": {},
   "outputs": [],
   "source": [
    "a1 = np.array([[1,2,5], [7,1,5]])\n",
    "a2 = np.array([[4,6,9], [2,5,1]])\n"
   ]
  },
  {
   "cell_type": "code",
   "execution_count": 93,
   "metadata": {},
   "outputs": [
    {
     "name": "stdout",
     "output_type": "stream",
     "text": [
      "[[ 5  8 14]\n",
      " [ 9  6  6]]\n",
      "[[ 5  8 14]\n",
      " [ 9  6  6]]\n"
     ]
    }
   ],
   "source": [
    "#addition\n",
    "add1 = a1 + a2\n",
    "add2 = np.add(a1,a2)\n",
    "print(add1)\n",
    "print(add2)\n"
   ]
  },
  {
   "cell_type": "code",
   "execution_count": 95,
   "metadata": {},
   "outputs": [
    {
     "name": "stdout",
     "output_type": "stream",
     "text": [
      "[[-3 -4 -4]\n",
      " [ 5 -4  4]]\n",
      "[[-3 -4 -4]\n",
      " [ 5 -4  4]]\n"
     ]
    }
   ],
   "source": [
    "#subtraction\n",
    "sub1 = a1 - a2\n",
    "sub2 = np.subtract(a1,a2)\n",
    "print(sub1)\n",
    "print(sub2)"
   ]
  },
  {
   "cell_type": "code",
   "execution_count": 97,
   "metadata": {},
   "outputs": [
    {
     "name": "stdout",
     "output_type": "stream",
     "text": [
      "[[ 4 12 45]\n",
      " [14  5  5]]\n",
      "[[ 4 12 45]\n",
      " [14  5  5]]\n"
     ]
    }
   ],
   "source": [
    "#multiplication\n",
    "mul1 = a1 * a2\n",
    "mul2 = np.multiply(a1,a2)\n",
    "print(mul1)\n",
    "print(mul2)"
   ]
  },
  {
   "cell_type": "code",
   "execution_count": 98,
   "metadata": {},
   "outputs": [
    {
     "name": "stdout",
     "output_type": "stream",
     "text": [
      "[[0.25       0.33333333 0.55555556]\n",
      " [3.5        0.2        5.        ]]\n",
      "[[0.25       0.33333333 0.55555556]\n",
      " [3.5        0.2        5.        ]]\n"
     ]
    }
   ],
   "source": [
    "#division\n",
    "div1 = a1 / a2\n",
    "div2 = np.divide(a1,a2)\n",
    "print(div1)\n",
    "print(div2)"
   ]
  },
  {
   "cell_type": "code",
   "execution_count": 100,
   "metadata": {},
   "outputs": [
    {
     "name": "stdout",
     "output_type": "stream",
     "text": [
      "[[53 21]\n",
      " [75 52]]\n"
     ]
    }
   ],
   "source": [
    "##dot product\n",
    "a3 = np.array([[4,6],[2,5],[9,1]])\n",
    "dotp = a1.dot(a3)\n",
    "print(dotp)"
   ]
  },
  {
   "cell_type": "code",
   "execution_count": 101,
   "metadata": {},
   "outputs": [],
   "source": [
    "exp = np.exp(a)\n",
    "sqroot =np.sqrt(a)\n",
    "sin= np.sin(a)\n",
    "cos = np.cos(a)\n",
    "log = np.log(a)"
   ]
  },
  {
   "cell_type": "code",
   "execution_count": 102,
   "metadata": {},
   "outputs": [
    {
     "name": "stdout",
     "output_type": "stream",
     "text": [
      "[[148.4131591  403.42879349  20.08553692]\n",
      " [  7.3890561  148.4131591    2.71828183]]\n"
     ]
    }
   ],
   "source": [
    "print(exp)"
   ]
  },
  {
   "cell_type": "code",
   "execution_count": 103,
   "metadata": {},
   "outputs": [
    {
     "name": "stdout",
     "output_type": "stream",
     "text": [
      "[[2.23606798 2.44948974 1.73205081]\n",
      " [1.41421356 2.23606798 1.        ]]\n"
     ]
    }
   ],
   "source": [
    "print(sqroot)"
   ]
  },
  {
   "cell_type": "code",
   "execution_count": 104,
   "metadata": {},
   "outputs": [
    {
     "name": "stdout",
     "output_type": "stream",
     "text": [
      "[[-0.95892427 -0.2794155   0.14112001]\n",
      " [ 0.90929743 -0.95892427  0.84147098]]\n"
     ]
    }
   ],
   "source": [
    "print(sin)"
   ]
  },
  {
   "cell_type": "code",
   "execution_count": 105,
   "metadata": {},
   "outputs": [
    {
     "name": "stdout",
     "output_type": "stream",
     "text": [
      "[[ 0.28366219  0.96017029 -0.9899925 ]\n",
      " [-0.41614684  0.28366219  0.54030231]]\n"
     ]
    }
   ],
   "source": [
    "print(cos)"
   ]
  },
  {
   "cell_type": "code",
   "execution_count": 106,
   "metadata": {},
   "outputs": [
    {
     "name": "stdout",
     "output_type": "stream",
     "text": [
      "[[1.60943791 1.79175947 1.09861229]\n",
      " [0.69314718 1.60943791 0.        ]]\n"
     ]
    }
   ],
   "source": [
    "print(log)"
   ]
  },
  {
   "cell_type": "code",
   "execution_count": 108,
   "metadata": {},
   "outputs": [
    {
     "name": "stdout",
     "output_type": "stream",
     "text": [
      "[8 3 8]\n"
     ]
    }
   ],
   "source": [
    "## NumPy statistics\n",
    "##Summation\n",
    "a5 = np.array([[1,2,5],[7,1,3]])\n",
    "##summation by column\n",
    "sum1 =a5.sum(axis=1)\n",
    "sum2 = np.sum(a5, axis=1)\n",
    "print(sum1)"
   ]
  },
  {
   "cell_type": "code",
   "execution_count": 109,
   "metadata": {},
   "outputs": [
    {
     "name": "stdout",
     "output_type": "stream",
     "text": [
      "[8 3 8]\n"
     ]
    }
   ],
   "source": [
    "##summation by column\n",
    "sum1row =a5.sum(axis=0)\n",
    "sum2row = np.sum(a5, axis=1)\n",
    "print(sum1row)"
   ]
  },
  {
   "cell_type": "code",
   "execution_count": 111,
   "metadata": {},
   "outputs": [
    {
     "name": "stdout",
     "output_type": "stream",
     "text": [
      "7\n",
      "[5 7]\n",
      "[7 2 5]\n"
     ]
    }
   ],
   "source": [
    "#maximum \n",
    "maxi = a5.max()\n",
    "maxi2 = a5.max(axis=1)\n",
    "maxi3= a5.max(axis=0)\n",
    "\n",
    "print(maxi)\n",
    "print(maxi2)\n",
    "print(maxi3)"
   ]
  },
  {
   "cell_type": "code",
   "execution_count": 112,
   "metadata": {},
   "outputs": [
    {
     "name": "stdout",
     "output_type": "stream",
     "text": [
      "2.1921577396609844\n"
     ]
    }
   ],
   "source": [
    "#standard deviation\n",
    "standard_dev = np.std(a5)\n",
    "print(standard_dev)"
   ]
  },
  {
   "cell_type": "code",
   "execution_count": 113,
   "metadata": {},
   "outputs": [
    {
     "name": "stdout",
     "output_type": "stream",
     "text": [
      "[4.  1.5 4. ]\n",
      "3.1666666666666665\n"
     ]
    }
   ],
   "source": [
    "## average\n",
    "avg = np.mean(a5,axis=0)\n",
    "avg2 = np.mean(a5)\n",
    "print(avg)\n",
    "print(avg2)"
   ]
  },
  {
   "cell_type": "code",
   "execution_count": 114,
   "metadata": {},
   "outputs": [],
   "source": [
    "#Triangle task\n",
    "a = np.array([0,0])\n",
    "b = np.array([0,3])\n",
    "c = np.array([1.5,0])\n",
    "\n",
    "from numpy import linalg as la \n",
    "\n",
    "ab = la.norm(a-b)\n",
    "ac = la.norm(a-c)\n",
    "bc = la.norm(b-c)"
   ]
  },
  {
   "cell_type": "code",
   "execution_count": 115,
   "metadata": {},
   "outputs": [
    {
     "name": "stdout",
     "output_type": "stream",
     "text": [
      "3.0\n",
      "1.5\n",
      "3.3541019662496847\n"
     ]
    }
   ],
   "source": [
    "#print output of triangle\n",
    "print(ab)\n",
    "print(ac)\n",
    "print(bc)"
   ]
  },
  {
   "cell_type": "code",
   "execution_count": 116,
   "metadata": {},
   "outputs": [
    {
     "name": "stdout",
     "output_type": "stream",
     "text": [
      "[[1 7]\n",
      " [2 1]\n",
      " [5 3]]\n"
     ]
    }
   ],
   "source": [
    "#NumPy array manipulation\n",
    "a7 = np.array([[1,2,5],[7,1,3]])\n",
    "\n",
    "#transposing\n",
    "aTr1 = np.transpose(a7)\n",
    "aTr2 = a7.T\n",
    "print(aTr2)"
   ]
  },
  {
   "cell_type": "code",
   "execution_count": 118,
   "metadata": {},
   "outputs": [
    {
     "name": "stdout",
     "output_type": "stream",
     "text": [
      "[[1 2]\n",
      " [5 7]\n",
      " [1 3]]\n",
      "[[1 2]\n",
      " [5 7]\n",
      " [1 3]]\n"
     ]
    }
   ],
   "source": [
    "#Reshape\n",
    "reshape1 = np.reshape(a7,(3,2))\n",
    "reshape2 = a7.reshape(3,2)\n",
    "print(reshape1)\n",
    "print(reshape2)"
   ]
  },
  {
   "cell_type": "code",
   "execution_count": 120,
   "metadata": {},
   "outputs": [
    {
     "name": "stdout",
     "output_type": "stream",
     "text": [
      "[1 2 5 7 1 3]\n"
     ]
    }
   ],
   "source": [
    "#reshape to row\n",
    "reshapeToRow = a7.reshape(6)\n",
    "print(reshapeToRow)"
   ]
  },
  {
   "cell_type": "code",
   "execution_count": 121,
   "metadata": {},
   "outputs": [
    {
     "name": "stdout",
     "output_type": "stream",
     "text": [
      "[[1 2 5 7 8 9]\n",
      " [7 1 3 4 1 9]]\n"
     ]
    }
   ],
   "source": [
    "#stacking horizontally\n",
    "a8 = np.array([[1,2,5],[7,1,3]])\n",
    "a9 = np.array([[7,8],[4,1]])\n",
    "a10 = np.array([[9],[9]])\n",
    "\n",
    "abc=np.hstack([a8,a9,a10])           \n",
    "print(abc)   "
   ]
  },
  {
   "cell_type": "code",
   "execution_count": 125,
   "metadata": {},
   "outputs": [],
   "source": [
    "array1 = np.array([[1,2,3],[4,5,6]])\n",
    "array2 = np.array([[7,8,9],[10,11,12]])\n",
    "array3 = np.array([[13,14,15],[16,17,18]])"
   ]
  },
  {
   "cell_type": "code",
   "execution_count": 127,
   "metadata": {},
   "outputs": [
    {
     "name": "stdout",
     "output_type": "stream",
     "text": [
      "[[ 1  2  3]\n",
      " [ 4  5  6]\n",
      " [ 7  8  9]\n",
      " [10 11 12]\n",
      " [13 14 15]\n",
      " [16 17 18]]\n"
     ]
    }
   ],
   "source": [
    "#vertical stacking\n",
    "bac = np.vstack([array1, array2, array3])\n",
    "print(bac)"
   ]
  },
  {
   "cell_type": "code",
   "execution_count": 129,
   "metadata": {},
   "outputs": [
    {
     "name": "stdout",
     "output_type": "stream",
     "text": [
      "[[ 1  2  3  7  8  9 13 14 15]\n",
      " [ 4  5  6 10 11 12 16 17 18]]\n"
     ]
    }
   ],
   "source": [
    "#concatenate\n",
    "ab= np.concatenate((array1, array2, array3), axis=1)\n",
    "print(ab)"
   ]
  },
  {
   "cell_type": "code",
   "execution_count": 130,
   "metadata": {},
   "outputs": [
    {
     "name": "stdout",
     "output_type": "stream",
     "text": [
      "[[ 1  2  3]\n",
      " [ 4  5  6]\n",
      " [ 7  8  9]\n",
      " [10 11 12]\n",
      " [13 14 15]\n",
      " [16 17 18]]\n"
     ]
    }
   ],
   "source": [
    "#concatenate\n",
    "ab= np.concatenate((array1, array2, array3), axis=0)\n",
    "print(ab)"
   ]
  },
  {
   "cell_type": "code",
   "execution_count": 131,
   "metadata": {},
   "outputs": [],
   "source": [
    "## save a single array to a file\n",
    "np.save('array_a',array1)"
   ]
  },
  {
   "cell_type": "code",
   "execution_count": 132,
   "metadata": {},
   "outputs": [],
   "source": [
    "## save multiple array to a file\n",
    "np.savez('arrays_ab',arr1 = array1, arr2 = array2)"
   ]
  },
  {
   "cell_type": "code",
   "execution_count": 133,
   "metadata": {},
   "outputs": [],
   "source": [
    "## save array to a txt file\n",
    "np.savetxt('array_a.txt',array1)"
   ]
  },
  {
   "cell_type": "code",
   "execution_count": 135,
   "metadata": {},
   "outputs": [],
   "source": [
    "##delimiter txt file\n",
    "## %d = intiger format\n",
    "## %f = float number\n",
    "## %s = string number\n",
    "## %.2f = float number ot the nearest 2 decimal place\n",
    "\n",
    "## fmt = format\n",
    "np.savetxt('array_a4.txt',array1, delimiter=',', fmt='%f')"
   ]
  },
  {
   "cell_type": "code",
   "execution_count": 136,
   "metadata": {},
   "outputs": [],
   "source": [
    "## saving to a .csv file\n",
    "np.savetxt('array_a4.csv',array2, delimiter=',', fmt='%d')"
   ]
  },
  {
   "cell_type": "code",
   "execution_count": 137,
   "metadata": {},
   "outputs": [
    {
     "name": "stdout",
     "output_type": "stream",
     "text": [
      "[[1 2 3]\n",
      " [4 5 6]]\n"
     ]
    }
   ],
   "source": [
    "# how to load a .npy and .npz file\n",
    "# load npy file\n",
    "le = np.load('array_a.npy')\n",
    "print(le)"
   ]
  },
  {
   "cell_type": "code",
   "execution_count": 141,
   "metadata": {},
   "outputs": [
    {
     "name": "stdout",
     "output_type": "stream",
     "text": [
      "[[1 2 3]\n",
      " [4 5 6]]\n",
      "[[ 7  8  9]\n",
      " [10 11 12]]\n"
     ]
    }
   ],
   "source": [
    "# load npz file\n",
    "le2 = np.load('arrays_ab.npz')\n",
    "print(le2['arr1'])\n",
    "print(le2['arr2'])"
   ]
  },
  {
   "cell_type": "code",
   "execution_count": 149,
   "metadata": {},
   "outputs": [
    {
     "name": "stdout",
     "output_type": "stream",
     "text": [
      "[[1. 2. 3.]\n",
      " [4. 5. 6.]]\n"
     ]
    }
   ],
   "source": [
    "## load txt file\n",
    "le3 = np.loadtxt('array_a4.txt', delimiter=',')\n",
    "print(le3)"
   ]
  },
  {
   "cell_type": "code",
   "execution_count": 151,
   "metadata": {},
   "outputs": [
    {
     "name": "stdout",
     "output_type": "stream",
     "text": [
      "[[ 7.  8.  9.]\n",
      " [10. 11. 12.]]\n"
     ]
    }
   ],
   "source": [
    "##load a csv file\n",
    "le4 = np.loadtxt('array_a4.csv', delimiter=',')\n",
    "print(le4)"
   ]
  },
  {
   "cell_type": "code",
   "execution_count": 158,
   "metadata": {},
   "outputs": [
    {
     "name": "stdout",
     "output_type": "stream",
     "text": [
      "[[2.  2.2]\n",
      " [5.3 7.8]\n",
      " [1.9 3. ]]\n",
      "[['2.0' '2.2']\n",
      " ['5.3' '7.8']\n",
      " ['1.9' '3.0']]\n",
      "[['c1' 'c2' 'c3' 'r1' 'r2' 'r3']]\n"
     ]
    }
   ],
   "source": [
    "data1 = np.array([[1.99, 2.23],[5.30,7.75],[1.89,3.01]])\n",
    "\n",
    "datar = np.around(data1,1)\n",
    "print(datar)\n",
    "\n",
    "datas = np.char.mod('%.1f',datar)\n",
    "print(datas)\n",
    "\n",
    "row_h = np.array([['r1', 'r2', 'r3']])\n",
    "column_h = np.array([['c1','c2','c3']])\n",
    "\n",
    "cSt = np.hstack([column_header,row_header])    \n",
    "print(cSt)\n",
    "# np.savetxt('datar.csv', datar, delimiter=',', fmt='%.1f')"
   ]
  },
  {
   "cell_type": "code",
   "execution_count": 163,
   "metadata": {},
   "outputs": [],
   "source": [
    "#create a csv file with column and row headers\n",
    "new_array = np.array([[1.89, 2.23, 3.35], [5.30, 7.75, 5.65], [1.89, 3.01, 4.56]])\n",
    "#round off new array\n",
    "new_array = np.round(new_array, decimals=1)\n",
    "#add column header\n",
    "column_header= ['col1','col2','col3']\n",
    "##ad row header\n",
    "row_header = ['----'],['row1'], ['row2'], ['row3']\n",
    "#stacking rows and column header ot the array\n",
    "array_with_header = np.vstack([column_header, new_array])\n",
    "\n",
    "final_array = np.hstack([row_header, array_with_header])\n",
    "\n",
    "np.savetxt('myfile.csv', final_array, delimiter=',', fmt='%s')"
   ]
  }
 ],
 "metadata": {
  "kernelspec": {
   "display_name": "Python 3",
   "language": "python",
   "name": "python3"
  },
  "language_info": {
   "codemirror_mode": {
    "name": "ipython",
    "version": 3
   },
   "file_extension": ".py",
   "mimetype": "text/x-python",
   "name": "python",
   "nbconvert_exporter": "python",
   "pygments_lexer": "ipython3",
   "version": "3.12.1"
  }
 },
 "nbformat": 4,
 "nbformat_minor": 2
}
