{
 "cells": [
  {
   "cell_type": "code",
   "execution_count": 6,
   "metadata": {},
   "outputs": [
    {
     "ename": "SyntaxError",
     "evalue": "invalid syntax (3658173441.py, line 16)",
     "output_type": "error",
     "traceback": [
      "\u001b[1;36m  Cell \u001b[1;32mIn[6], line 16\u001b[1;36m\u001b[0m\n\u001b[1;33m    return Nonedef findCat(node):\u001b[0m\n\u001b[1;37m                   ^\u001b[0m\n\u001b[1;31mSyntaxError\u001b[0m\u001b[1;31m:\u001b[0m invalid syntax\n"
     ]
    }
   ],
   "source": [
    "graph = {\n",
    "    'A': {'nodes': ['B', 'C'], 'direction': {'N': 'B', 'W': 'C', 'E': None, 'S': None}, 'questions': 'choose a direction', 'isThereCat': False, 'requiredCat': False},\n",
    "    'B': {'nodes': ['A'], 'direction': {'N': 'A', 'W': None, 'E': None, 'S': None}, 'questions': 'choose a direction', 'isThereCat': False, 'requiredCat': False},\n",
    "    'C': {'nodes': ['A', 'D', 'E', 'F'], 'direction': {'N': 'A', 'W': 'D', 'E': 'E', 'S': 'F'}, 'questions': 'choose a direction', 'isThereCat': False, 'requiredCat': False},\n",
    "    'D': {'nodes': ['C', 'G'], 'direction': {'N': 'C', 'W': 'G', 'E': None, 'S': None}, 'questions': 'choose a direction', 'isThereCat': True, 'requiredCat': False},\n",
    "    'E': {'nodes': ['C', 'G'], 'direction': {'N': 'C', 'W': 'G', 'E': None, 'S': None}, 'questions': 'choose a direction', 'isThereCat': False, 'requiredCat': False},\n",
    "    'G': {'nodes': ['E', 'D'], 'direction': {'N': 'E', 'W': 'D', 'E': None, 'S': None}, 'questions': 'choose a direction', 'isThereCat': False, 'requiredCat': False},\n",
    "    'F': {'nodes': [], 'direction': {'N': None, 'W': None, 'E': None, 'S': None}, 'questions': 'choose a direction', 'isThereCat': False, 'requiredCat': False}\n",
    "    'A': {'nodes': ['B', 'C'], 'direction': {'N': 'B', 'W': 'C', 'E': None, 'S': None}, 'questions': 'choose a direction', 'isThereCat': False, 'requiredCat': False},\n",
    "    'B': {'nodes': ['A'], 'direction': {'N': 'A', 'W': None, 'E': None, 'S': None}, 'questions': 'choose a direction', 'isThereCat': False, 'requiredCat': False},\n",
    "    'C': {'nodes': ['A', 'D', 'E', 'F'], 'direction': {'N': 'A', 'W': 'D', 'E': 'E', 'S': 'F'}, 'questions': 'choose a direction', 'isThereCat': False, 'requiredCat': False},\n",
    "    'D': {'nodes': ['C', 'G'], 'direction': {'N': 'C', 'W': 'G', 'E': None, 'S': None}, 'questions': 'choose a direction', 'isThereCat': True, 'requiredCat': False},\n",
    "    'E': {'nodes': ['C', 'G'], 'direction': {'N': 'C', 'W': 'G', 'E': None, 'S': None}, 'questions': 'choose a direction', 'isThereCat': False, 'requiredCat': False},\n",
    "    'G': {'nodes': ['E', 'D'], 'direction': {'N': 'E', 'W': 'D', 'E': None, 'S': None}, 'questions': 'choose a direction', 'isThereCat': False, 'requiredCat': False},\n",
    "    'F': {'nodes': [], 'direction': {'N': None, 'W': None, 'E': None, 'S': None}, 'questions': 'choose a direction', 'isThereCat': False, 'requiredCat': False}\n",
    "    }\n",
    "def get_direction(user_input, node):\n",
    "    for direction in user_input:\n",
    "        print(\"node\", node)\n",
    "        print(\"user_input\", user_input)\n",
    "        if direction in graph[node]['direction']:\n",
    "            return graph([node]['direction'][direction])    \n",
    "        print(\"Invalid direction entered\")\n",
    "    return nonedef findCat(node):\n",
    "    if graph[node]['isThereCat']:\n",
    "        print(\"you found the cat\")def get_node(node='A'):\n",
    "    print(node)\n",
    "    # If the game hasn't reached the last node, keep playing\n",
    "    while len(graph[node]['nodes']) != 0:        user_input = input(graph[node]['questions'])\n",
    "        print(\"user_input\", user_input)\n",
    "        next_node = get_direction(user_input, node)\n",
    "        print(next_node)\n",
    "        if next_node is not None:\n",
    "            findCat(next_node)\n",
    "            get_node(next_node)\n",
    "        else:\n",
    "            print(\" direction does not exists. Try again.\")\n",
    "            continue\n",
    "        break\n",
    "    if len(graph[node]['nodes']) == 0:\n",
    "        print(\"You won\")\n",
    "        end_game();def start_game():\n",
    "    get_node()def end_game():\n",
    "    print('you have reach the end of the game')\n",
    "    start_game()}\n",
    "def get_direction(user_input, node):\n",
    "    for direction in user_input:\n",
    "        print(\"node\", node)\n",
    "        print(\"user_input\", user_input)\n",
    "        if direction in graph[node]['direction']:\n",
    "            return graph([node]['direction'][direction])    \n",
    "        print(\"Invalid direction entered\")\n",
    "    return nonedef findCat(node):\n",
    "    if graph[node]['isThereCat']:\n",
    "        print(\"you found the cat\")def get_node(node='A'):\n",
    "    print(node)\n",
    "    # If the game hasn't reached the last node, keep playing\n",
    "    while len(graph[node]['nodes']) != 0:        user_input = input(graph[node]['questions'])\n",
    "        print(\"user_input\", user_input)\n",
    "        next_node = get_direction(user_input, node)\n",
    "        print(next_node)\n",
    "        if next_node is not None:\n",
    "            findCat(next_node)\n",
    "            get_node(next_node)\n",
    "        else:\n",
    "            print(\" direction does not exists. Try again.\")\n",
    "            continue\n",
    "        break\n",
    "    if len(graph[node]['nodes']) == 0:\n",
    "        print(\"You won\")\n",
    "        end_game();def start_game():\n",
    "    get_node()def end_game():\n",
    "    print('you have reach the end of the game')\n",
    "    start_game()"
   ]
  }
 ],
 "metadata": {
  "kernelspec": {
   "display_name": "Python 3",
   "language": "python",
   "name": "python3"
  },
  "language_info": {
   "codemirror_mode": {
    "name": "ipython",
    "version": 3
   },
   "file_extension": ".py",
   "mimetype": "text/x-python",
   "name": "python",
   "nbconvert_exporter": "python",
   "pygments_lexer": "ipython3",
   "version": "3.12.1"
  }
 },
 "nbformat": 4,
 "nbformat_minor": 2
}
