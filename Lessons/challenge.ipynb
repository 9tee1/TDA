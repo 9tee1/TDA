{
 "cells": [
  {
   "cell_type": "code",
   "execution_count": 2,
   "metadata": {},
   "outputs": [
    {
     "name": "stdout",
     "output_type": "stream",
     "text": [
      "Nick Flint\n",
      "Tobi Guest\n",
      "Tahir Suleman\n",
      "Andoni Erodiadou\n"
     ]
    }
   ],
   "source": [
    "import csv\n",
    "with open ('Attendance.csv', \"r\") as record:\n",
    "    reader = csv.reader(record)\n",
    "    for line in reader:\n",
    "        print(line[0], line[1])\n"
   ]
  },
  {
   "cell_type": "code",
   "execution_count": 15,
   "metadata": {},
   "outputs": [
    {
     "name": "stdout",
     "output_type": "stream",
     "text": [
      "Invalid input. Please enter 'Y' for Yes or 'N' for No.\n",
      "Invalid input. Please enter 'Y' for Yes or 'N' for No.\n",
      "Invalid input. Please enter 'Y' for Yes or 'N' for No.\n",
      "Invalid input. Please enter 'Y' for Yes or 'N' for No.\n",
      "Invalid input. Please enter 'Y' for Yes or 'N' for No.\n",
      "Invalid input. Please enter 'Y' for Yes or 'N' for No.\n",
      "Invalid input. Please enter 'Y' for Yes or 'N' for No.\n",
      "Invalid input. Please enter 'Y' for Yes or 'N' for No.\n",
      "Invalid input. Please enter 'Y' for Yes or 'N' for No.\n",
      "Invalid input. Please enter 'Y' for Yes or 'N' for No.\n",
      "Invalid input. Please enter 'Y' for Yes or 'N' for No.\n",
      "Invalid input. Please enter 'Y' for Yes or 'N' for No.\n",
      "Invalid input. Please enter 'Y' for Yes or 'N' for No.\n",
      "Attendance has been taken\n"
     ]
    }
   ],
   "source": [
    "import csv\n",
    " \n",
    "# Output file for attendance records\n",
    "output_file = 'attendance_output.csv'\n",
    " \n",
    "def take_attendance(student_list):\n",
    "    # List to store attendance records\n",
    "    attendance = []\n",
    "   \n",
    "    # Iterate through each row in the student list\n",
    "    for names in student_list:\n",
    "        # Filter out non-string values, empty names, and numbers\n",
    "        valid_names = [name.strip() for name in names if isinstance(name, str) and name.strip() and not name.strip().isdigit()]\n",
    "       \n",
    "        # Check if there are valid names\n",
    "        if valid_names:\n",
    "            # Combine valid names into a single string\n",
    "            name = ' '.join(valid_names)\n",
    "           \n",
    "            # Get attendance input from user\n",
    "            while True:\n",
    "                response = input(f\"Is {name} present? (Y/N): \").lower()\n",
    "                if response in ['y', 'n']:\n",
    "                    break\n",
    "                else:\n",
    "                    print(\"Invalid input. Please enter 'Y' for Yes or 'N' for No.\")\n",
    "           \n",
    "            # Append attendance record to the list\n",
    "            attendance.append([name, response])\n",
    "   \n",
    "    return attendance\n",
    " \n",
    "def save_attendance(attendance, output_file):\n",
    "    # Write attendance records to a CSV file\n",
    "    with open(output_file, 'w', newline='') as csv_file:\n",
    "        csv.writer(csv_file).writerows(attendance)\n",
    " \n",
    "# Read student list from CSV file\n",
    "students = [row for row in csv.reader(open('student_list.csv', 'r'))]\n",
    " \n",
    "# Take attendance and save to output file\n",
    "attendance_mark = take_attendance(students)\n",
    "save_attendance(attendance_mark, output_file)\n",
    " \n",
    "# Display a message indicating that attendance has been taken\n",
    "print('Attendance has been taken')"
   ]
  }
 ],
 "metadata": {
  "kernelspec": {
   "display_name": "Python 3",
   "language": "python",
   "name": "python3"
  },
  "language_info": {
   "codemirror_mode": {
    "name": "ipython",
    "version": 3
   },
   "file_extension": ".py",
   "mimetype": "text/x-python",
   "name": "python",
   "nbconvert_exporter": "python",
   "pygments_lexer": "ipython3",
   "version": "3.12.1"
  }
 },
 "nbformat": 4,
 "nbformat_minor": 2
}
