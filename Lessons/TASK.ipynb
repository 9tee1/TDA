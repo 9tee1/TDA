{
 "cells": [
  {
   "cell_type": "code",
   "execution_count": 1,
   "metadata": {},
   "outputs": [
    {
     "name": "stdout",
     "output_type": "stream",
     "text": [
      "A\n",
      "user_input \n",
      "Invalid direction entered\n",
      "None\n",
      " direction does not exists. Try again.\n"
     ]
    }
   ],
   "source": [
    "graph = {\n",
    "    'A': {'nodes': ['B', 'C'], 'direction': {'N': 'B', 'W': 'C', 'E': None, 'S': None}, 'questions': 'Welcome to the Game, You are in the top floor of the building and the fire alarm has gone off! choose a direction to escape', 'isThereCat': False, 'requiredCat': False},\n",
    "    'B': {'nodes': ['A'], 'direction': {'N': None, 'W': None, 'E': None, 'S':'A'}, 'questions': 'choose a direction', 'isThereCat': False, 'requiredCat': False},\n",
    "    'C': {'nodes': ['A', 'D'], 'direction': {'N': 'D', 'W': 'A', 'E': None, 'S': None}, 'questions': 'choose a direction', 'isThereCat': False, 'requiredCat': False},\n",
    "    'D': {'nodes': ['C', 'E', 'F'], 'direction': {'N': 'E', 'W': 'F', 'E': None, 'S': 'C'}, 'questions': 'choose a direction', 'isThereCat': False, 'requiredCat': False},\n",
    "    'E': {'nodes': ['D'], 'direction': {'N': None, 'W': None, 'E': None, 'S': 'D'}, 'questions': 'choose a direction', 'isThereCat': False, 'requiredCat': False},\n",
    "    'F': {'nodes': ['D', 'G', 'H', 'I'], 'direction': {'N': 'G', 'W': 'D', 'E': 'H', 'S': 'I'}, 'questions': 'choose a direction', 'isThereCat': False, 'requiredCat': False},\n",
    "    'G': {'nodes': ['F', 'J'], 'direction': {'N': None, 'W': None, 'E': 'J', 'S': 'F'}, 'questions': 'choose a direction', 'isThereCat': False, 'requiredCat': False},\n",
    "    'H': {'nodes': ['F'], 'direction': {'N': None, 'W': 'F', 'E': None, 'S': None}, 'questions': 'choose a direction', 'isThereCat': True, 'requiredCat': False},\n",
    "    'I': {'nodes': ['F'], 'direction': {'N': 'F', 'W': None, 'E': None, 'S': None}, 'questions': 'choose a direction', 'isThereCat': False, 'requiredCat': False},\n",
    "    'J': {'nodes': ['K', 'L', 'N'], 'direction': {'N': 'K', 'W': 'L', 'E': 'N', 'S': None}, 'questions': 'choose a direction', 'isThereCat': False, 'requiredCat': False},\n",
    "    'K': {'nodes': ['J', 'M'], 'direction': {'N': None, 'W': 'M', 'E': None, 'S': 'J'}, 'questions': 'choose a direction', 'isThereCat': True, 'requiredCat': False},\n",
    "    'L': {'nodes': ['J', 'M'], 'direction': {'N': 'M', 'W': None, 'E': 'J', 'S': None}, 'questions': 'choose a direction', 'isThereCat': False, 'requiredCat': False},\n",
    "    'M': {'nodes': ['K', 'L'], 'direction': {'N': None, 'W': None, 'E': 'K', 'S': 'L'}, 'questions': 'choose a direction', 'isThereCat': False, 'requiredCat': False},\n",
    "    'N': {'nodes': [], 'direction': {'N': None, 'W': None, 'E': None, 'S': None}, 'questions': 'choose a direction', 'isThereCat': False, 'requiredCat': False}\n",
    "    }\n",
    "def get_direction(user_input, node):\n",
    "    for direction in user_input:\n",
    "        print(\"node\", node)\n",
    "        print(\"user_input\", user_input)\n",
    "        if direction in graph[node]['direction']:\n",
    "            return graph[node]['direction'][direction]    \n",
    "    print(\"Invalid direction entered\")\n",
    "    return None\n",
    "\n",
    "def findCat(node):    \n",
    "    if graph[node]['isThereCat']:\n",
    "        print(\"you found the cat\")\n",
    "        \n",
    "def get_node(node='A'):\n",
    "    print(node)    \n",
    "    # If the game hasn't reached the last node, keep playing\n",
    "    while len(graph[node]['nodes']) != 0:        \n",
    "        user_input = input(graph[node]['questions'])\n",
    "        print(\"user_input\", user_input)\n",
    "        next_node = get_direction(user_input, node)\n",
    "        print(next_node)\n",
    "        if next_node is not None:\n",
    "            findCat(next_node)\n",
    "            get_node(next_node)\n",
    "        else:\n",
    "            print(\" direction does not exists. Try again.\")\n",
    "            continue\n",
    "        break\n",
    "    if len(graph[node]['nodes']) == 0:\n",
    "        print(\"You won\")\n",
    "        end_game()\n",
    "    \n",
    "def start_game():\n",
    "    get_node()\n",
    "    \n",
    "def end_game():\n",
    "    print('you have reach the end of the game')\n",
    "    \n",
    "start_game()"
   ]
  }
 ],
 "metadata": {
  "kernelspec": {
   "display_name": "Python 3",
   "language": "python",
   "name": "python3"
  },
  "language_info": {
   "codemirror_mode": {
    "name": "ipython",
    "version": 3
   },
   "file_extension": ".py",
   "mimetype": "text/x-python",
   "name": "python",
   "nbconvert_exporter": "python",
   "pygments_lexer": "ipython3",
   "version": "3.12.1"
  }
 },
 "nbformat": 4,
 "nbformat_minor": 2
}
