{
 "cells": [
  {
   "cell_type": "code",
   "execution_count": 43,
   "metadata": {},
   "outputs": [],
   "source": [
    "import tensorflow as tf\n",
    "from tensorflow.keras.layers import Dense, Dropout\n",
    "from tensorflow.keras.models import Sequential\n",
    "from sklearn.metrics import accuracy_score, confusion_matrix, ConfusionMatrixDisplay, f1_score\n",
    "import pandas as pd\n",
    "import matplotlib.pyplot as plt\n",
    "import numpy as np\n",
    "from sklearn.metrics import accuracy_score, confusion_matrix, classification_report, roc_auc_score, roc_curve\n",
    "from sklearn.model_selection import train_test_split"
   ]
  },
  {
   "cell_type": "code",
   "execution_count": 12,
   "metadata": {},
   "outputs": [
    {
     "data": {
      "text/html": [
       "<div>\n",
       "<style scoped>\n",
       "    .dataframe tbody tr th:only-of-type {\n",
       "        vertical-align: middle;\n",
       "    }\n",
       "\n",
       "    .dataframe tbody tr th {\n",
       "        vertical-align: top;\n",
       "    }\n",
       "\n",
       "    .dataframe thead th {\n",
       "        text-align: right;\n",
       "    }\n",
       "</style>\n",
       "<table border=\"1\" class=\"dataframe\">\n",
       "  <thead>\n",
       "    <tr style=\"text-align: right;\">\n",
       "      <th></th>\n",
       "      <th>the</th>\n",
       "      <th>to</th>\n",
       "      <th>ect</th>\n",
       "      <th>and</th>\n",
       "      <th>for</th>\n",
       "      <th>of</th>\n",
       "      <th>a</th>\n",
       "      <th>you</th>\n",
       "      <th>hou</th>\n",
       "      <th>in</th>\n",
       "      <th>...</th>\n",
       "      <th>connevey</th>\n",
       "      <th>jay</th>\n",
       "      <th>valued</th>\n",
       "      <th>lay</th>\n",
       "      <th>infrastructure</th>\n",
       "      <th>military</th>\n",
       "      <th>allowing</th>\n",
       "      <th>ff</th>\n",
       "      <th>dry</th>\n",
       "      <th>Prediction</th>\n",
       "    </tr>\n",
       "  </thead>\n",
       "  <tbody>\n",
       "    <tr>\n",
       "      <th>0</th>\n",
       "      <td>0</td>\n",
       "      <td>0</td>\n",
       "      <td>1</td>\n",
       "      <td>0</td>\n",
       "      <td>0</td>\n",
       "      <td>0</td>\n",
       "      <td>2</td>\n",
       "      <td>0</td>\n",
       "      <td>0</td>\n",
       "      <td>0</td>\n",
       "      <td>...</td>\n",
       "      <td>0</td>\n",
       "      <td>0</td>\n",
       "      <td>0</td>\n",
       "      <td>0</td>\n",
       "      <td>0</td>\n",
       "      <td>0</td>\n",
       "      <td>0</td>\n",
       "      <td>0</td>\n",
       "      <td>0</td>\n",
       "      <td>0</td>\n",
       "    </tr>\n",
       "    <tr>\n",
       "      <th>1</th>\n",
       "      <td>8</td>\n",
       "      <td>13</td>\n",
       "      <td>24</td>\n",
       "      <td>6</td>\n",
       "      <td>6</td>\n",
       "      <td>2</td>\n",
       "      <td>102</td>\n",
       "      <td>1</td>\n",
       "      <td>27</td>\n",
       "      <td>18</td>\n",
       "      <td>...</td>\n",
       "      <td>0</td>\n",
       "      <td>0</td>\n",
       "      <td>0</td>\n",
       "      <td>0</td>\n",
       "      <td>0</td>\n",
       "      <td>0</td>\n",
       "      <td>0</td>\n",
       "      <td>1</td>\n",
       "      <td>0</td>\n",
       "      <td>0</td>\n",
       "    </tr>\n",
       "    <tr>\n",
       "      <th>2</th>\n",
       "      <td>0</td>\n",
       "      <td>0</td>\n",
       "      <td>1</td>\n",
       "      <td>0</td>\n",
       "      <td>0</td>\n",
       "      <td>0</td>\n",
       "      <td>8</td>\n",
       "      <td>0</td>\n",
       "      <td>0</td>\n",
       "      <td>4</td>\n",
       "      <td>...</td>\n",
       "      <td>0</td>\n",
       "      <td>0</td>\n",
       "      <td>0</td>\n",
       "      <td>0</td>\n",
       "      <td>0</td>\n",
       "      <td>0</td>\n",
       "      <td>0</td>\n",
       "      <td>0</td>\n",
       "      <td>0</td>\n",
       "      <td>0</td>\n",
       "    </tr>\n",
       "    <tr>\n",
       "      <th>3</th>\n",
       "      <td>0</td>\n",
       "      <td>5</td>\n",
       "      <td>22</td>\n",
       "      <td>0</td>\n",
       "      <td>5</td>\n",
       "      <td>1</td>\n",
       "      <td>51</td>\n",
       "      <td>2</td>\n",
       "      <td>10</td>\n",
       "      <td>1</td>\n",
       "      <td>...</td>\n",
       "      <td>0</td>\n",
       "      <td>0</td>\n",
       "      <td>0</td>\n",
       "      <td>0</td>\n",
       "      <td>0</td>\n",
       "      <td>0</td>\n",
       "      <td>0</td>\n",
       "      <td>0</td>\n",
       "      <td>0</td>\n",
       "      <td>0</td>\n",
       "    </tr>\n",
       "    <tr>\n",
       "      <th>4</th>\n",
       "      <td>7</td>\n",
       "      <td>6</td>\n",
       "      <td>17</td>\n",
       "      <td>1</td>\n",
       "      <td>5</td>\n",
       "      <td>2</td>\n",
       "      <td>57</td>\n",
       "      <td>0</td>\n",
       "      <td>9</td>\n",
       "      <td>3</td>\n",
       "      <td>...</td>\n",
       "      <td>0</td>\n",
       "      <td>0</td>\n",
       "      <td>0</td>\n",
       "      <td>0</td>\n",
       "      <td>0</td>\n",
       "      <td>0</td>\n",
       "      <td>0</td>\n",
       "      <td>1</td>\n",
       "      <td>0</td>\n",
       "      <td>0</td>\n",
       "    </tr>\n",
       "  </tbody>\n",
       "</table>\n",
       "<p>5 rows × 3001 columns</p>\n",
       "</div>"
      ],
      "text/plain": [
       "   the  to  ect  and  for  of    a  you  hou  in  ...  connevey  jay  valued  \\\n",
       "0    0   0    1    0    0   0    2    0    0   0  ...         0    0       0   \n",
       "1    8  13   24    6    6   2  102    1   27  18  ...         0    0       0   \n",
       "2    0   0    1    0    0   0    8    0    0   4  ...         0    0       0   \n",
       "3    0   5   22    0    5   1   51    2   10   1  ...         0    0       0   \n",
       "4    7   6   17    1    5   2   57    0    9   3  ...         0    0       0   \n",
       "\n",
       "   lay  infrastructure  military  allowing  ff  dry  Prediction  \n",
       "0    0               0         0         0   0    0           0  \n",
       "1    0               0         0         0   1    0           0  \n",
       "2    0               0         0         0   0    0           0  \n",
       "3    0               0         0         0   0    0           0  \n",
       "4    0               0         0         0   1    0           0  \n",
       "\n",
       "[5 rows x 3001 columns]"
      ]
     },
     "execution_count": 12,
     "metadata": {},
     "output_type": "execute_result"
    }
   ],
   "source": [
    "df = pd.read_csv('emails.csv')\n",
    "df = df.drop(columns=['Email No.'])\n",
    "df.head()"
   ]
  },
  {
   "cell_type": "code",
   "execution_count": 18,
   "metadata": {},
   "outputs": [],
   "source": [
    "## split the data into independent and dependent variable\n",
    "X = df.iloc[:, :-1].values\n",
    "y = df.iloc[:, -1].values\n"
   ]
  },
  {
   "cell_type": "code",
   "execution_count": 21,
   "metadata": {},
   "outputs": [],
   "source": [
    "## split the data into training and testing set\n",
    "X_train, X_test, y_train, y_test = train_test_split(X, y, test_size= 0.2, random_state = 32)\n"
   ]
  },
  {
   "cell_type": "code",
   "execution_count": 23,
   "metadata": {},
   "outputs": [],
   "source": [
    "## initialise the nerual network\n",
    "model = Sequential()\n",
    "\n",
    "##setup input layer\n",
    "model.add(Dense(units=16, kernel_initializer = 'uniform', activation = 'relu', input_dim = 3000))\n",
    "\n",
    "#hidden layer 1\n",
    "model.add(Dense(units=8, kernel_initializer = 'uniform', activation = 'relu'))\n",
    "\n",
    "#hidden layer 2\n",
    "model.add(Dense(units=4, kernel_initializer = 'uniform', activation = 'relu'))\n",
    "\n",
    "##reqularization\n",
    "model.add(Dropout(0.25))\n",
    "\n",
    "#output layer \n",
    "model.add(Dense(units=1, kernel_initializer = 'uniform', activation = 'sigmoid'))\n",
    "\n",
    "#compiling the network\n",
    "## adam, stochastic gradient descent= SGD, RMSPROP = rootm ean square propagation\n",
    "#binary classification - binary_crossentropy, multi class classification -- catergorical_class_entropy\n",
    "model.compile(optimizer='adam', loss = 'binary_crossentropy', metrics = ['accuracy'])"
   ]
  },
  {
   "cell_type": "code",
   "execution_count": 26,
   "metadata": {},
   "outputs": [
    {
     "name": "stdout",
     "output_type": "stream",
     "text": [
      "Epoch 1/20\n",
      "28/28 [==============================] - 0s 15ms/step - loss: 0.0875 - accuracy: 0.9937 - val_loss: 0.1048 - val_accuracy: 0.9843\n",
      "Epoch 2/20\n",
      "28/28 [==============================] - 0s 10ms/step - loss: 0.0884 - accuracy: 0.9943 - val_loss: 0.1078 - val_accuracy: 0.9843\n",
      "Epoch 3/20\n",
      "28/28 [==============================] - 0s 11ms/step - loss: 0.0837 - accuracy: 0.9949 - val_loss: 0.1080 - val_accuracy: 0.9831\n",
      "Epoch 4/20\n",
      "28/28 [==============================] - 0s 10ms/step - loss: 0.0813 - accuracy: 0.9940 - val_loss: 0.1110 - val_accuracy: 0.9843\n",
      "Epoch 5/20\n",
      "28/28 [==============================] - 0s 11ms/step - loss: 0.0808 - accuracy: 0.9949 - val_loss: 0.1111 - val_accuracy: 0.9831\n",
      "Epoch 6/20\n",
      "28/28 [==============================] - 0s 10ms/step - loss: 0.0782 - accuracy: 0.9943 - val_loss: 0.1140 - val_accuracy: 0.9831\n",
      "Epoch 7/20\n",
      "28/28 [==============================] - 0s 8ms/step - loss: 0.0819 - accuracy: 0.9940 - val_loss: 0.1174 - val_accuracy: 0.9831\n",
      "Epoch 8/20\n",
      "28/28 [==============================] - 0s 9ms/step - loss: 0.0774 - accuracy: 0.9921 - val_loss: 0.1201 - val_accuracy: 0.9831\n",
      "Epoch 9/20\n",
      "28/28 [==============================] - 0s 9ms/step - loss: 0.0733 - accuracy: 0.9934 - val_loss: 0.1228 - val_accuracy: 0.9843\n",
      "Epoch 10/20\n",
      "28/28 [==============================] - 0s 9ms/step - loss: 0.0783 - accuracy: 0.9934 - val_loss: 0.1859 - val_accuracy: 0.9819\n",
      "Epoch 11/20\n",
      "28/28 [==============================] - 0s 9ms/step - loss: 0.0744 - accuracy: 0.9921 - val_loss: 0.1318 - val_accuracy: 0.9819\n",
      "Epoch 12/20\n",
      "28/28 [==============================] - 0s 9ms/step - loss: 0.0682 - accuracy: 0.9958 - val_loss: 0.1402 - val_accuracy: 0.9831\n",
      "Epoch 13/20\n",
      "28/28 [==============================] - 0s 9ms/step - loss: 0.0745 - accuracy: 0.9937 - val_loss: 0.1479 - val_accuracy: 0.9831\n",
      "Epoch 14/20\n",
      "28/28 [==============================] - 0s 9ms/step - loss: 0.0720 - accuracy: 0.9927 - val_loss: 0.1357 - val_accuracy: 0.9843\n",
      "Epoch 15/20\n",
      "28/28 [==============================] - 0s 10ms/step - loss: 0.0677 - accuracy: 0.9949 - val_loss: 0.1429 - val_accuracy: 0.9819\n",
      "Epoch 16/20\n",
      "28/28 [==============================] - 0s 9ms/step - loss: 0.0687 - accuracy: 0.9930 - val_loss: 0.1537 - val_accuracy: 0.9819\n",
      "Epoch 17/20\n",
      "28/28 [==============================] - 0s 11ms/step - loss: 0.0653 - accuracy: 0.9949 - val_loss: 0.1577 - val_accuracy: 0.9831\n",
      "Epoch 18/20\n",
      "28/28 [==============================] - 0s 10ms/step - loss: 0.0617 - accuracy: 0.9967 - val_loss: 0.1608 - val_accuracy: 0.9831\n",
      "Epoch 19/20\n",
      "28/28 [==============================] - 0s 10ms/step - loss: 0.0709 - accuracy: 0.9924 - val_loss: 0.1628 - val_accuracy: 0.9831\n",
      "Epoch 20/20\n",
      "28/28 [==============================] - 0s 9ms/step - loss: 0.0661 - accuracy: 0.9927 - val_loss: 0.1651 - val_accuracy: 0.9831\n"
     ]
    }
   ],
   "source": [
    "##train network \n",
    "history = model.fit(X_train, y_train, batch_size=120, epochs=20, validation_split=0.20)"
   ]
  },
  {
   "cell_type": "code",
   "execution_count": 30,
   "metadata": {},
   "outputs": [
    {
     "name": "stderr",
     "output_type": "stream",
     "text": [
      "C:\\Users\\T\\AppData\\Roaming\\Python\\Python311\\site-packages\\keras\\src\\engine\\training.py:3103: UserWarning: You are saving your model as an HDF5 file via `model.save()`. This file format is considered legacy. We recommend using instead the native Keras format, e.g. `model.save('my_model.keras')`.\n",
      "  saving_api.save_model(\n"
     ]
    }
   ],
   "source": [
    "##save the network\n",
    "model.save('ann_model.h5')"
   ]
  },
  {
   "cell_type": "code",
   "execution_count": 33,
   "metadata": {},
   "outputs": [],
   "source": [
    "#load model\n",
    "ann_model = tf.keras.models.load_model('ann_model.h5')"
   ]
  },
  {
   "cell_type": "code",
   "execution_count": 34,
   "metadata": {},
   "outputs": [
    {
     "name": "stdout",
     "output_type": "stream",
     "text": [
      "33/33 [==============================] - 1s 7ms/step\n"
     ]
    }
   ],
   "source": [
    "## make prediction\n",
    "y_pred_ann = ann_model.predict(X_test)"
   ]
  },
  {
   "cell_type": "code",
   "execution_count": 35,
   "metadata": {},
   "outputs": [
    {
     "data": {
      "text/plain": [
       "array([[9.1448920e-03],\n",
       "       [8.3504015e-17],\n",
       "       [8.0705946e-03],\n",
       "       ...,\n",
       "       [9.9999952e-01],\n",
       "       [5.5952967e-07],\n",
       "       [1.0000000e+00]], dtype=float32)"
      ]
     },
     "execution_count": 35,
     "metadata": {},
     "output_type": "execute_result"
    }
   ],
   "source": [
    "y_pred_ann"
   ]
  },
  {
   "cell_type": "code",
   "execution_count": 36,
   "metadata": {},
   "outputs": [
    {
     "data": {
      "text/plain": [
       "array([[0],\n",
       "       [0],\n",
       "       [0],\n",
       "       ...,\n",
       "       [1],\n",
       "       [0],\n",
       "       [1]])"
      ]
     },
     "execution_count": 36,
     "metadata": {},
     "output_type": "execute_result"
    }
   ],
   "source": [
    "## set threshold\n",
    "y_pred_ann = np.where(y_pred_ann >0.5, 1, 0)\n",
    "y_pred_ann"
   ]
  },
  {
   "cell_type": "code",
   "execution_count": 37,
   "metadata": {},
   "outputs": [
    {
     "name": "stdout",
     "output_type": "stream",
     "text": [
      "(1035,)\n",
      "(1035, 1)\n"
     ]
    }
   ],
   "source": [
    "print(y_test.shape)\n",
    "print(y_pred_ann.shape)"
   ]
  },
  {
   "cell_type": "code",
   "execution_count": 39,
   "metadata": {},
   "outputs": [],
   "source": [
    "#flatten the y_pred_ann\n",
    "y_pred_ann=y_pred_ann.flatten()"
   ]
  },
  {
   "cell_type": "code",
   "execution_count": 55,
   "metadata": {},
   "outputs": [
    {
     "data": {
      "text/html": [
       "<div>\n",
       "<style scoped>\n",
       "    .dataframe tbody tr th:only-of-type {\n",
       "        vertical-align: middle;\n",
       "    }\n",
       "\n",
       "    .dataframe tbody tr th {\n",
       "        vertical-align: top;\n",
       "    }\n",
       "\n",
       "    .dataframe thead th {\n",
       "        text-align: right;\n",
       "    }\n",
       "</style>\n",
       "<table border=\"1\" class=\"dataframe\">\n",
       "  <thead>\n",
       "    <tr style=\"text-align: right;\">\n",
       "      <th></th>\n",
       "      <th>Actual</th>\n",
       "      <th>Predicted</th>\n",
       "    </tr>\n",
       "  </thead>\n",
       "  <tbody>\n",
       "    <tr>\n",
       "      <th>0</th>\n",
       "      <td>0</td>\n",
       "      <td>0</td>\n",
       "    </tr>\n",
       "    <tr>\n",
       "      <th>1</th>\n",
       "      <td>0</td>\n",
       "      <td>0</td>\n",
       "    </tr>\n",
       "    <tr>\n",
       "      <th>2</th>\n",
       "      <td>0</td>\n",
       "      <td>0</td>\n",
       "    </tr>\n",
       "    <tr>\n",
       "      <th>3</th>\n",
       "      <td>0</td>\n",
       "      <td>0</td>\n",
       "    </tr>\n",
       "    <tr>\n",
       "      <th>4</th>\n",
       "      <td>1</td>\n",
       "      <td>1</td>\n",
       "    </tr>\n",
       "    <tr>\n",
       "      <th>...</th>\n",
       "      <td>...</td>\n",
       "      <td>...</td>\n",
       "    </tr>\n",
       "    <tr>\n",
       "      <th>1030</th>\n",
       "      <td>1</td>\n",
       "      <td>1</td>\n",
       "    </tr>\n",
       "    <tr>\n",
       "      <th>1031</th>\n",
       "      <td>0</td>\n",
       "      <td>0</td>\n",
       "    </tr>\n",
       "    <tr>\n",
       "      <th>1032</th>\n",
       "      <td>1</td>\n",
       "      <td>1</td>\n",
       "    </tr>\n",
       "    <tr>\n",
       "      <th>1033</th>\n",
       "      <td>0</td>\n",
       "      <td>0</td>\n",
       "    </tr>\n",
       "    <tr>\n",
       "      <th>1034</th>\n",
       "      <td>1</td>\n",
       "      <td>1</td>\n",
       "    </tr>\n",
       "  </tbody>\n",
       "</table>\n",
       "<p>1035 rows × 2 columns</p>\n",
       "</div>"
      ],
      "text/plain": [
       "      Actual  Predicted\n",
       "0          0          0\n",
       "1          0          0\n",
       "2          0          0\n",
       "3          0          0\n",
       "4          1          1\n",
       "...      ...        ...\n",
       "1030       1          1\n",
       "1031       0          0\n",
       "1032       1          1\n",
       "1033       0          0\n",
       "1034       1          1\n",
       "\n",
       "[1035 rows x 2 columns]"
      ]
     },
     "execution_count": 55,
     "metadata": {},
     "output_type": "execute_result"
    }
   ],
   "source": [
    "pd.DataFrame({'Actual':y_test, 'Predicted':y_pred_ann})"
   ]
  },
  {
   "cell_type": "code",
   "execution_count": 56,
   "metadata": {},
   "outputs": [
    {
     "name": "stdout",
     "output_type": "stream",
     "text": [
      "              precision    recall  f1-score   support\n",
      "\n",
      "           0       0.99      0.99      0.99       716\n",
      "           1       0.97      0.97      0.97       319\n",
      "\n",
      "    accuracy                           0.98      1035\n",
      "   macro avg       0.98      0.98      0.98      1035\n",
      "weighted avg       0.98      0.98      0.98      1035\n",
      "\n"
     ]
    }
   ],
   "source": [
    "##classification report\n",
    "print(classification_report(y_test,y_pred_ann))"
   ]
  },
  {
   "cell_type": "code",
   "execution_count": null,
   "metadata": {},
   "outputs": [],
   "source": [
    "import tensorflow as tf\n",
    "from tensorflow.keras.layers import Dense, Dropout\n",
    "from tensorflow.keras.models import Sequential\n",
    "from sklearn.metrics import accuracy_score, confusion_matrix, ConfusionMatrixDisplay, f1_score\n",
    "import pandas as pd\n",
    "import matplotlib.pyplot as plt\n",
    "import numpy as np\n",
    "from sklearn.metrics import accuracy_score, confusion_matrix, classification_report, roc_auc_score, roc_curve\n",
    "from sklearn.model_selection import train_test_split"
   ]
  },
  {
   "cell_type": "code",
   "execution_count": null,
   "metadata": {},
   "outputs": [
    {
     "data": {
      "text/html": [
       "<div>\n",
       "<style scoped>\n",
       "    .dataframe tbody tr th:only-of-type {\n",
       "        vertical-align: middle;\n",
       "    }\n",
       "\n",
       "    .dataframe tbody tr th {\n",
       "        vertical-align: top;\n",
       "    }\n",
       "\n",
       "    .dataframe thead th {\n",
       "        text-align: right;\n",
       "    }\n",
       "</style>\n",
       "<table border=\"1\" class=\"dataframe\">\n",
       "  <thead>\n",
       "    <tr style=\"text-align: right;\">\n",
       "      <th></th>\n",
       "      <th>the</th>\n",
       "      <th>to</th>\n",
       "      <th>ect</th>\n",
       "      <th>and</th>\n",
       "      <th>for</th>\n",
       "      <th>of</th>\n",
       "      <th>a</th>\n",
       "      <th>you</th>\n",
       "      <th>hou</th>\n",
       "      <th>in</th>\n",
       "      <th>...</th>\n",
       "      <th>connevey</th>\n",
       "      <th>jay</th>\n",
       "      <th>valued</th>\n",
       "      <th>lay</th>\n",
       "      <th>infrastructure</th>\n",
       "      <th>military</th>\n",
       "      <th>allowing</th>\n",
       "      <th>ff</th>\n",
       "      <th>dry</th>\n",
       "      <th>Prediction</th>\n",
       "    </tr>\n",
       "  </thead>\n",
       "  <tbody>\n",
       "    <tr>\n",
       "      <th>0</th>\n",
       "      <td>0</td>\n",
       "      <td>0</td>\n",
       "      <td>1</td>\n",
       "      <td>0</td>\n",
       "      <td>0</td>\n",
       "      <td>0</td>\n",
       "      <td>2</td>\n",
       "      <td>0</td>\n",
       "      <td>0</td>\n",
       "      <td>0</td>\n",
       "      <td>...</td>\n",
       "      <td>0</td>\n",
       "      <td>0</td>\n",
       "      <td>0</td>\n",
       "      <td>0</td>\n",
       "      <td>0</td>\n",
       "      <td>0</td>\n",
       "      <td>0</td>\n",
       "      <td>0</td>\n",
       "      <td>0</td>\n",
       "      <td>0</td>\n",
       "    </tr>\n",
       "    <tr>\n",
       "      <th>1</th>\n",
       "      <td>8</td>\n",
       "      <td>13</td>\n",
       "      <td>24</td>\n",
       "      <td>6</td>\n",
       "      <td>6</td>\n",
       "      <td>2</td>\n",
       "      <td>102</td>\n",
       "      <td>1</td>\n",
       "      <td>27</td>\n",
       "      <td>18</td>\n",
       "      <td>...</td>\n",
       "      <td>0</td>\n",
       "      <td>0</td>\n",
       "      <td>0</td>\n",
       "      <td>0</td>\n",
       "      <td>0</td>\n",
       "      <td>0</td>\n",
       "      <td>0</td>\n",
       "      <td>1</td>\n",
       "      <td>0</td>\n",
       "      <td>0</td>\n",
       "    </tr>\n",
       "    <tr>\n",
       "      <th>2</th>\n",
       "      <td>0</td>\n",
       "      <td>0</td>\n",
       "      <td>1</td>\n",
       "      <td>0</td>\n",
       "      <td>0</td>\n",
       "      <td>0</td>\n",
       "      <td>8</td>\n",
       "      <td>0</td>\n",
       "      <td>0</td>\n",
       "      <td>4</td>\n",
       "      <td>...</td>\n",
       "      <td>0</td>\n",
       "      <td>0</td>\n",
       "      <td>0</td>\n",
       "      <td>0</td>\n",
       "      <td>0</td>\n",
       "      <td>0</td>\n",
       "      <td>0</td>\n",
       "      <td>0</td>\n",
       "      <td>0</td>\n",
       "      <td>0</td>\n",
       "    </tr>\n",
       "    <tr>\n",
       "      <th>3</th>\n",
       "      <td>0</td>\n",
       "      <td>5</td>\n",
       "      <td>22</td>\n",
       "      <td>0</td>\n",
       "      <td>5</td>\n",
       "      <td>1</td>\n",
       "      <td>51</td>\n",
       "      <td>2</td>\n",
       "      <td>10</td>\n",
       "      <td>1</td>\n",
       "      <td>...</td>\n",
       "      <td>0</td>\n",
       "      <td>0</td>\n",
       "      <td>0</td>\n",
       "      <td>0</td>\n",
       "      <td>0</td>\n",
       "      <td>0</td>\n",
       "      <td>0</td>\n",
       "      <td>0</td>\n",
       "      <td>0</td>\n",
       "      <td>0</td>\n",
       "    </tr>\n",
       "    <tr>\n",
       "      <th>4</th>\n",
       "      <td>7</td>\n",
       "      <td>6</td>\n",
       "      <td>17</td>\n",
       "      <td>1</td>\n",
       "      <td>5</td>\n",
       "      <td>2</td>\n",
       "      <td>57</td>\n",
       "      <td>0</td>\n",
       "      <td>9</td>\n",
       "      <td>3</td>\n",
       "      <td>...</td>\n",
       "      <td>0</td>\n",
       "      <td>0</td>\n",
       "      <td>0</td>\n",
       "      <td>0</td>\n",
       "      <td>0</td>\n",
       "      <td>0</td>\n",
       "      <td>0</td>\n",
       "      <td>1</td>\n",
       "      <td>0</td>\n",
       "      <td>0</td>\n",
       "    </tr>\n",
       "  </tbody>\n",
       "</table>\n",
       "<p>5 rows × 3001 columns</p>\n",
       "</div>"
      ],
      "text/plain": [
       "   the  to  ect  and  for  of    a  you  hou  in  ...  connevey  jay  valued  \\\n",
       "0    0   0    1    0    0   0    2    0    0   0  ...         0    0       0   \n",
       "1    8  13   24    6    6   2  102    1   27  18  ...         0    0       0   \n",
       "2    0   0    1    0    0   0    8    0    0   4  ...         0    0       0   \n",
       "3    0   5   22    0    5   1   51    2   10   1  ...         0    0       0   \n",
       "4    7   6   17    1    5   2   57    0    9   3  ...         0    0       0   \n",
       "\n",
       "   lay  infrastructure  military  allowing  ff  dry  Prediction  \n",
       "0    0               0         0         0   0    0           0  \n",
       "1    0               0         0         0   1    0           0  \n",
       "2    0               0         0         0   0    0           0  \n",
       "3    0               0         0         0   0    0           0  \n",
       "4    0               0         0         0   1    0           0  \n",
       "\n",
       "[5 rows x 3001 columns]"
      ]
     },
     "metadata": {},
     "output_type": "display_data"
    }
   ],
   "source": [
    "df = pd.read_csv('emails.csv')\n",
    "df = df.drop(columns=['Email No.'])\n",
    "df.head()"
   ]
  },
  {
   "cell_type": "code",
   "execution_count": null,
   "metadata": {},
   "outputs": [],
   "source": [
    "## split the data into independent and dependent variable\n",
    "X = df.iloc[:, :-1].values\n",
    "y = df.iloc[:, -1].values\n"
   ]
  },
  {
   "cell_type": "code",
   "execution_count": null,
   "metadata": {},
   "outputs": [],
   "source": [
    "## split the data into training and testing set\n",
    "X_train, X_test, y_train, y_test = train_test_split(X, y, test_size= 0.2, random_state = 32)\n"
   ]
  },
  {
   "cell_type": "code",
   "execution_count": null,
   "metadata": {},
   "outputs": [],
   "source": [
    "## initialise the nerual network\n",
    "model = Sequential()\n",
    "\n",
    "##setup input layer\n",
    "model.add(Dense(units=16, kernel_initializer = 'uniform', activation = 'relu', input_dim = 3000))\n",
    "\n",
    "#hidden layer 1\n",
    "model.add(Dense(units=8, kernel_initializer = 'uniform', activation = 'relu'))\n",
    "\n",
    "#hidden layer 2\n",
    "model.add(Dense(units=4, kernel_initializer = 'uniform', activation = 'relu'))\n",
    "\n",
    "##reqularization\n",
    "model.add(Dropout(0.25))\n",
    "\n",
    "#output layer \n",
    "model.add(Dense(units=1, kernel_initializer = 'uniform', activation = 'sigmoid'))\n",
    "\n",
    "#compiling the network\n",
    "## adam, stochastic gradient descent= SGD, RMSPROP = rootm ean square propagation\n",
    "#binary classification - binary_crossentropy, multi class classification -- catergorical_class_entropy\n",
    "model.compile(optimizer='adam', loss = 'binary_crossentropy', metrics = ['accuracy'])"
   ]
  },
  {
   "cell_type": "code",
   "execution_count": null,
   "metadata": {},
   "outputs": [
    {
     "name": "stdout",
     "output_type": "stream",
     "text": [
      "Epoch 1/20\n",
      "28/28 [==============================] - 0s 15ms/step - loss: 0.0875 - accuracy: 0.9937 - val_loss: 0.1048 - val_accuracy: 0.9843\n",
      "Epoch 2/20\n",
      "28/28 [==============================] - 0s 10ms/step - loss: 0.0884 - accuracy: 0.9943 - val_loss: 0.1078 - val_accuracy: 0.9843\n",
      "Epoch 3/20\n",
      "28/28 [==============================] - 0s 11ms/step - loss: 0.0837 - accuracy: 0.9949 - val_loss: 0.1080 - val_accuracy: 0.9831\n",
      "Epoch 4/20\n",
      "28/28 [==============================] - 0s 10ms/step - loss: 0.0813 - accuracy: 0.9940 - val_loss: 0.1110 - val_accuracy: 0.9843\n",
      "Epoch 5/20\n",
      "28/28 [==============================] - 0s 11ms/step - loss: 0.0808 - accuracy: 0.9949 - val_loss: 0.1111 - val_accuracy: 0.9831\n",
      "Epoch 6/20\n",
      "28/28 [==============================] - 0s 10ms/step - loss: 0.0782 - accuracy: 0.9943 - val_loss: 0.1140 - val_accuracy: 0.9831\n",
      "Epoch 7/20\n",
      "28/28 [==============================] - 0s 8ms/step - loss: 0.0819 - accuracy: 0.9940 - val_loss: 0.1174 - val_accuracy: 0.9831\n",
      "Epoch 8/20\n",
      "28/28 [==============================] - 0s 9ms/step - loss: 0.0774 - accuracy: 0.9921 - val_loss: 0.1201 - val_accuracy: 0.9831\n",
      "Epoch 9/20\n",
      "28/28 [==============================] - 0s 9ms/step - loss: 0.0733 - accuracy: 0.9934 - val_loss: 0.1228 - val_accuracy: 0.9843\n",
      "Epoch 10/20\n",
      "28/28 [==============================] - 0s 9ms/step - loss: 0.0783 - accuracy: 0.9934 - val_loss: 0.1859 - val_accuracy: 0.9819\n",
      "Epoch 11/20\n",
      "28/28 [==============================] - 0s 9ms/step - loss: 0.0744 - accuracy: 0.9921 - val_loss: 0.1318 - val_accuracy: 0.9819\n",
      "Epoch 12/20\n",
      "28/28 [==============================] - 0s 9ms/step - loss: 0.0682 - accuracy: 0.9958 - val_loss: 0.1402 - val_accuracy: 0.9831\n",
      "Epoch 13/20\n",
      "28/28 [==============================] - 0s 9ms/step - loss: 0.0745 - accuracy: 0.9937 - val_loss: 0.1479 - val_accuracy: 0.9831\n",
      "Epoch 14/20\n",
      "28/28 [==============================] - 0s 9ms/step - loss: 0.0720 - accuracy: 0.9927 - val_loss: 0.1357 - val_accuracy: 0.9843\n",
      "Epoch 15/20\n",
      "28/28 [==============================] - 0s 10ms/step - loss: 0.0677 - accuracy: 0.9949 - val_loss: 0.1429 - val_accuracy: 0.9819\n",
      "Epoch 16/20\n",
      "28/28 [==============================] - 0s 9ms/step - loss: 0.0687 - accuracy: 0.9930 - val_loss: 0.1537 - val_accuracy: 0.9819\n",
      "Epoch 17/20\n",
      "28/28 [==============================] - 0s 11ms/step - loss: 0.0653 - accuracy: 0.9949 - val_loss: 0.1577 - val_accuracy: 0.9831\n",
      "Epoch 18/20\n",
      "28/28 [==============================] - 0s 10ms/step - loss: 0.0617 - accuracy: 0.9967 - val_loss: 0.1608 - val_accuracy: 0.9831\n",
      "Epoch 19/20\n",
      "28/28 [==============================] - 0s 10ms/step - loss: 0.0709 - accuracy: 0.9924 - val_loss: 0.1628 - val_accuracy: 0.9831\n",
      "Epoch 20/20\n",
      "28/28 [==============================] - 0s 9ms/step - loss: 0.0661 - accuracy: 0.9927 - val_loss: 0.1651 - val_accuracy: 0.9831\n"
     ]
    }
   ],
   "source": [
    "##train network \n",
    "history = model.fit(X_train, y_train, batch_size=120, epochs=20, validation_split=0.20)"
   ]
  },
  {
   "cell_type": "code",
   "execution_count": 42,
   "metadata": {},
   "outputs": [],
   "source": [
    "##confusion matrix\n",
    "cm=confusion_matrix(y_test,y_pred_ann)"
   ]
  },
  {
   "cell_type": "code",
   "execution_count": 49,
   "metadata": {},
   "outputs": [
    {
     "data": {
      "image/png": "[encoded data removed]",
      "text/plain": [
       "<Figure size 400x400 with 1 Axes>"
      ]
     },
     "metadata": {},
     "output_type": "display_data"
    }
   ],
   "source": [
    "## confusion matrix plot\n",
    "from mlxtend.plotting import plot_confusion_matrix\n",
    "\n",
    "fig, ax = plot_confusion_matrix(conf_mat=cm, figsize=(4,4))\n",
    "plt.xlabel('Predictions', fontsize = 18)\n",
    "plt.ylabel('Actuals', fontsize = 18)\n",
    "plt.title('confusion matrix', fontsize = 18)\n",
    "plt.show()\n"
   ]
  },
  {
   "cell_type": "code",
   "execution_count": 46,
   "metadata": {},
   "outputs": [
    {
     "name": "stdout",
     "output_type": "stream",
     "text": [
      "AUC: 0.980478\n"
     ]
    },
    {
     "data": {
      "image/png": "[encoded data removed]",
      "text/plain": [
       "<Figure size 640x480 with 1 Axes>"
      ]
     },
     "metadata": {},
     "output_type": "display_data"
    }
   ],
   "source": [
    "auc_mod2 = roc_auc_score(y_test, y_pred_ann)\n",
    "print('AUC: %f' %auc_mod2)\n",
    "\n",
    "fpr, tpr, _ = roc_curve(y_test, y_pred_ann)\n",
    "plt.plot(fpr, tpr, color='orange', label='ROC')\n",
    "plt.plot([0, 1], [0, 1], color='darkblue', linestyle='--')\n",
    "plt.xlabel('False Positive Rate')\n",
    "plt.ylabel('True Positive Rate')\n",
    "plt.title('Receiver Operating Characteristic (ROC) Curve')\n",
    "plt.legend()\n",
    "plt.show()"
   ]
  },
  {
   "cell_type": "code",
   "execution_count": 53,
   "metadata": {},
   "outputs": [
    {
     "data": {
      "image/png": "[encoded data removed]",
      "text/plain": [
       "<Figure size 500x500 with 1 Axes>"
      ]
     },
     "metadata": {},
     "output_type": "display_data"
    }
   ],
   "source": [
    "plt.figure(figsize=(5,5))\n",
    "plt.plot(history.history['accuracy'], label='Accuracy')\n",
    "plt.plot(history.history['val_accuracy'], label = 'Value_accuracy')\n",
    "plt.title('Model accuracy value and value accuracy')\n",
    "plt.show()"
   ]
  },
  {
   "cell_type": "code",
   "execution_count": 54,
   "metadata": {},
   "outputs": [
    {
     "data": {
      "image/png": "[encoded data removed]",
      "text/plain": [
       "<Figure size 500x500 with 1 Axes>"
      ]
     },
     "metadata": {},
     "output_type": "display_data"
    }
   ],
   "source": [
    "plt.figure(figsize=(5,5))\n",
    "plt.plot(history.history['loss'], label='Loss')\n",
    "plt.plot(history.history['val_loss'], label = 'Value_loss')\n",
    "plt.title('Model loss and value loss')\n",
    "plt.show()"
   ]
  }
 ],
 "metadata": {
  "kernelspec": {
   "display_name": "Python 3",
   "language": "python",
   "name": "python3"
  },
  "language_info": {
   "codemirror_mode": {
    "name": "ipython",
    "version": 3
   },
   "file_extension": ".py",
   "mimetype": "text/x-python",
   "name": "python",
   "nbconvert_exporter": "python",
   "pygments_lexer": "ipython3",
   "version": "3.11.0"
  }
 },
 "nbformat": 4,
 "nbformat_minor": 2
}
