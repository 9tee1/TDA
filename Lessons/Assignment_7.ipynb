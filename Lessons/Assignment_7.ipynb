{
 "cells": [
  {
   "cell_type": "code",
   "execution_count": null,
   "metadata": {},
   "outputs": [],
   "source": [
    "# Import necessary libraries\n",
    "import pandas as pd\n",
    "import matplotlib.pyplot as plt\n",
    "import seaborn as sns\n",
    "import numpy as np\n",
    "from sklearn import preprocessing\n",
    "from sklearn import metrics\n",
    "from sklearn.model_selection import train_test_split, cross_val_score\n",
    "from sklearn.linear_model import LinearRegression\n",
    "from sklearn.metrics import mean_squared_error, accuracy_score\n",
    "from sklearn.preprocessing import StandardScaler, OneHotEncoder\n",
    "from sklearn.compose import ColumnTransformer\n",
    "from sklearn.linear_model import Lasso, Ridge, RidgeCV, LassoCV\n",
    "\n",
    "# 1. Load the data\n",
    "data = pd.read_csv('m1_final.csv')\n",
    "\n",
    "# 2. Exploratory Data Analysis (EDA)\n",
    "data.head()\n",
    "\n"
   ]
  },
  {
   "cell_type": "code",
   "execution_count": null,
   "metadata": {},
   "outputs": [],
   "source": [
    "data.info()"
   ]
  },
  {
   "cell_type": "code",
   "execution_count": null,
   "metadata": {},
   "outputs": [],
   "source": [
    "data.isnull().sum()"
   ]
  },
  {
   "cell_type": "code",
   "execution_count": null,
   "metadata": {},
   "outputs": [],
   "source": [
    "data.select_dtypes([\"object\"]).head()"
   ]
  },
  {
   "cell_type": "code",
   "execution_count": null,
   "metadata": {},
   "outputs": [],
   "source": [
    "data[\"Dew Point\"] = data[\"Dew Point\"].astype(\"int64\")"
   ]
  },
  {
   "cell_type": "code",
   "execution_count": null,
   "metadata": {},
   "outputs": [],
   "source": [
    "# Calculate the mode of the wind variable\n",
    "mode = data['Wind'].mode().values[0]\n",
    "\n",
    "# Replace missing values in wind variable with mode\n",
    "data['Wind'].fillna(mode, inplace=True)\n",
    "## Verify if the values have been replaced\n",
    "data.isnull().sum()\n"
   ]
  },
  {
   "cell_type": "code",
   "execution_count": null,
   "metadata": {},
   "outputs": [],
   "source": [
    "data.describe()"
   ]
  },
  {
   "cell_type": "code",
   "execution_count": null,
   "metadata": {},
   "outputs": [],
   "source": [
    "print(data[\"DEP_DELAY\"].describe())"
   ]
  },
  {
   "cell_type": "code",
   "execution_count": null,
   "metadata": {},
   "outputs": [],
   "source": [
    "corr_matrix = data.corr(numeric_only=True)\n",
    "plt.figure(figsize=(15, 15))\n",
    "sns.heatmap(corr_matrix, annot=True, cmap='coolwarm')\n",
    "plt.title('Correlation Matrix Heatmap')\n",
    "plt.tight_layout\n",
    "plt.show()"
   ]
  },
  {
   "cell_type": "code",
   "execution_count": null,
   "metadata": {},
   "outputs": [],
   "source": [
    "data.hist(bins=50, figsize=(15,15), color= 'Green',)\n",
    "plt.show()"
   ]
  },
  {
   "cell_type": "code",
   "execution_count": null,
   "metadata": {},
   "outputs": [],
   "source": [
    "fig, ax = plt.subplots()\n",
    "figsize = (15,15)\n",
    "sns.boxplot(data=data, ax=ax)\n",
    "plt.xticks(rotation=90)\n",
    "#fig.tight_layout()\n",
    "plt.show()\n"
   ]
  },
  {
   "cell_type": "code",
   "execution_count": null,
   "metadata": {},
   "outputs": [],
   "source": [
    "data.head()"
   ]
  },
  {
   "cell_type": "code",
   "execution_count": null,
   "metadata": {},
   "outputs": [],
   "source": [
    "# label_encoder object knows how to understand word labels.\n",
    "label_encoder = preprocessing.LabelEncoder()\n",
    "  \n",
    "# Encode labels in column 'species'.\n",
    "data['OP_UNIQUE_CARRIER'] = label_encoder.fit_transform(data['OP_UNIQUE_CARRIER'].astype(str))\n",
    "data['DEST'] = label_encoder.fit_transform(data['DEST'].astype(str))\n",
    "data['Wind'] = label_encoder.fit_transform(data['Wind'].astype(str))\n",
    "data['Condition'] = label_encoder.fit_transform(data['Condition'].astype(str))\n",
    "data['TAIL_NUM'] = label_encoder.fit_transform(data['TAIL_NUM'].astype(str))"
   ]
  },
  {
   "cell_type": "code",
   "execution_count": null,
   "metadata": {},
   "outputs": [],
   "source": [
    "from sklearn.preprocessing import MinMaxScaler\n",
    "import pandas as pd\n",
    "\n",
    "# Assuming 'data' is your DataFrame\n",
    "# Replace 'data' with the actual name of your DataFrame\n",
    "\n",
    "# Create a scaler object\n",
    "scaler = MinMaxScaler()\n",
    "\n",
    "# Fit and transform the data\n",
    "data_normalized = pd.DataFrame(scaler.fit_transform(data), columns=data.columns)\n",
    "\n",
    "# Now 'data_normalized' is the normalized version of 'data'\n",
    "\n"
   ]
  },
  {
   "cell_type": "code",
   "execution_count": null,
   "metadata": {},
   "outputs": [],
   "source": [
    "#select the independent and dependent variable\n",
    "X = data_normalized.iloc[:,0:22]\n",
    "y= data_normalized.iloc[:,22]"
   ]
  },
  {
   "cell_type": "code",
   "execution_count": null,
   "metadata": {},
   "outputs": [],
   "source": [
    "#data splitting\n",
    "X_train, X_test, y_train, y_test= train_test_split(X, y, test_size=0.20, random_state=32)"
   ]
  },
  {
   "cell_type": "code",
   "execution_count": null,
   "metadata": {},
   "outputs": [],
   "source": [
    "## linear regression\n",
    "linear_reg = LinearRegression().fit(X_train, y_train)\n",
    "y_pred = linear_reg.predict(X_test)\n",
    "pred = pd.DataFrame({'Actual Value': y_test, 'Predicted Value': y_pred})\n",
    "pred"
   ]
  },
  {
   "cell_type": "code",
   "execution_count": null,
   "metadata": {},
   "outputs": [],
   "source": [
    "Mean_Absolute_Error = metrics.mean_absolute_error(y_test, y_pred)\n",
    "Mean_Sq_Error = metrics.mean_squared_error(y_test, y_pred)\n",
    "Root_Mean_Sqrr = np.sqrt(metrics.mean_squared_error(y_test, y_pred))\n",
    "\n",
    "print('R squared:{:.2f}'.format(linear_reg.score(X_test, y_test)))\n",
    "print('Mean Absolute Error:', Mean_Absolute_Error)\n",
    "print('Mean Square Error:', Mean_Sq_Error)\n",
    "print('Root Mean Square Error:', Root_Mean_Sqrr)"
   ]
  },
  {
   "cell_type": "code",
   "execution_count": null,
   "metadata": {},
   "outputs": [],
   "source": [
    "model_lasso= Lasso(alpha=0.001)\n",
    "model_lasso.fit(X_train,y_train)\n",
    "pred_lasso = model_lasso.predict(X_test)\n",
    "pred_lasso\n",
    "lasso_df = pd.DataFrame({'Actual_score':y_test, 'Predicted_score':pred_lasso})\n",
    "lasso_df\n"
   ]
  },
  {
   "cell_type": "code",
   "execution_count": null,
   "metadata": {},
   "outputs": [],
   "source": [
    "L_Mean_Absolute_Error = metrics.mean_absolute_error(y_test, pred_lasso)\n",
    "L_Mean_Sq_Error = metrics.mean_squared_error(y_test, pred_lasso)\n",
    "L_Root_Mean_Sqrr = np.sqrt(metrics.mean_squared_error(y_test, pred_lasso))\n",
    "\n",
    "print('R squared:{:.2f}'.format(linear_reg.score(X_test, y_test)))\n",
    "print('Mean Absolute Error:', L_Mean_Absolute_Error)\n",
    "print('Mean Square Error:', L_Mean_Sq_Error)\n",
    "print('Root Mean Square Error:', L_Root_Mean_Sqrr)"
   ]
  },
  {
   "cell_type": "code",
   "execution_count": null,
   "metadata": {},
   "outputs": [],
   "source": [
    "# Define the alphas \n",
    "alphas = [0.001, 0.01, 0.1, 1]\n",
    "\n",
    "# Create Lasso regression with the possible alpha values\n",
    "lassocv = LassoCV(alphas=alphas, cv=5)\n",
    "\n",
    "# Fit the model\n",
    "lassocv.fit(X_train, y_train)\n",
    "\n",
    "# The best alpha value is stored in `lassocv.alpha_`\n",
    "print(\"Best alpha: \", lassocv.alpha_)"
   ]
  },
  {
   "cell_type": "code",
   "execution_count": null,
   "metadata": {},
   "outputs": [],
   "source": [
    "model_ridge = Ridge(alpha=0.1)\n",
    "model_ridge.fit(X_train, y_train)\n",
    "pred_ridge = model_ridge.predict(X_test)\n",
    "\n",
    "ridge_df = pd.DataFrame({'Actual_score': y_test, 'Predicted_score': pred_ridge})\n",
    "ridge_df"
   ]
  },
  {
   "cell_type": "code",
   "execution_count": 54,
   "metadata": {},
   "outputs": [
    {
     "name": "stdout",
     "output_type": "stream",
     "text": [
      "R squared:0.09\n",
      "Mean Absolute Error: 0.1465132443027173\n",
      "Mean Square Error: 0.03379315508292199\n",
      "Root Mean Square Error: 0.18382914644561124\n"
     ]
    }
   ],
   "source": [
    "R_Mean_Absolute_Error = metrics.mean_absolute_error(y_test, pred_ridge)\n",
    "R_Mean_Sq_Error = metrics.mean_squared_error(y_test, pred_ridge)\n",
    "R_Root_Mean_Sqrr = np.sqrt(metrics.mean_squared_error(y_test, pred_ridge))\n",
    "\n",
    "print('R squared:{:.2f}'.format(linear_reg.score(X_test, y_test)))\n",
    "print('Mean Absolute Error:', R_Mean_Absolute_Error)\n",
    "print('Mean Square Error:', R_Mean_Sq_Error)\n",
    "print('Root Mean Square Error:', R_Root_Mean_Sqrr)"
   ]
  },
  {
   "cell_type": "code",
   "execution_count": 53,
   "metadata": {},
   "outputs": [
    {
     "name": "stdout",
     "output_type": "stream",
     "text": [
      "Best alpha:  0.1\n"
     ]
    }
   ],
   "source": [
    "# Define the alphas \n",
    "alphas = [0.001, 0.01, 0.1, 1]\n",
    "\n",
    "# Create ridge regression with three possible alpha values\n",
    "ridgecv = RidgeCV(alphas=alphas, cv=5)\n",
    "\n",
    "# Fit the model\n",
    "ridgecv.fit(X_train, y_train)\n",
    "\n",
    "# The best alpha value is stored in `ridgecv.alpha_`\n",
    "print(\"Best alpha: \", ridgecv.alpha_)"
   ]
  }
 ],
 "metadata": {
  "kernelspec": {
   "display_name": "Python 3",
   "language": "python",
   "name": "python3"
  },
  "language_info": {
   "codemirror_mode": {
    "name": "ipython",
    "version": 3
   },
   "file_extension": ".py",
   "mimetype": "text/x-python",
   "name": "python",
   "nbconvert_exporter": "python",
   "pygments_lexer": "ipython3",
   "version": "3.12.1"
  }
 },
 "nbformat": 4,
 "nbformat_minor": 2
}
