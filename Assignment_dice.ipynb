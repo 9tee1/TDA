{
 "cells": [
  {
   "cell_type": "code",
   "execution_count": 10,
   "metadata": {},
   "outputs": [
    {
     "name": "stdout",
     "output_type": "stream",
     "text": [
      "10\n",
      "4\n",
      "Thanks for your time\n"
     ]
    }
   ],
   "source": [
    "## Dice rolling simulator\n",
    "import random\n",
    "while True:\n",
    "    choice = input(\"would you like to roll the die? (yes or no)\")\n",
    "    if choice != \"yes\":\n",
    "        if choice == \"no\":\n",
    "            print(\"Thanks for your time\")\n",
    "            break\n",
    "    random.randint(1,12)\n",
    "    print(random.randint(1,12))\n"
   ]
  },
  {
   "cell_type": "code",
   "execution_count": 9,
   "metadata": {},
   "outputs": [
    {
     "name": "stdout",
     "output_type": "stream",
     "text": [
      "You rolled 6\n",
      "Do you want to roll again?\n"
     ]
    }
   ],
   "source": [
    "from random import randint\n",
    "repeat = True\n",
    "while repeat:\n",
    "    print(\"You rolled\",randint(1,12))\n",
    "    print(\"Do you want to roll again?\")\n",
    "    repeat = (\"y\" or \"yes\") in input().lower()"
   ]
  }
 ],
 "metadata": {
  "kernelspec": {
   "display_name": "Python 3",
   "language": "python",
   "name": "python3"
  },
  "language_info": {
   "codemirror_mode": {
    "name": "ipython",
    "version": 3
   },
   "file_extension": ".py",
   "mimetype": "text/x-python",
   "name": "python",
   "nbconvert_exporter": "python",
   "pygments_lexer": "ipython3",
   "version": "3.12.1"
  }
 },
 "nbformat": 4,
 "nbformat_minor": 2
}
