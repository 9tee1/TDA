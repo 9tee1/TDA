{
 "cells": [
  {
   "cell_type": "code",
   "execution_count": 10,
   "metadata": {},
   "outputs": [
    {
     "name": "stdout",
     "output_type": "stream",
     "text": [
      "10\n",
      "4\n",
      "Thanks for your time\n"
     ]
    }
   ],
   "source": [
    "## Dice rolling simulator\n",
    "import random\n",
    "while True:\n",
    "    choice = input(\"would you like to roll the die? (yes or no)\")\n",
    "    if choice != \"yes\":\n",
    "        if choice == \"no\":\n",
    "            print(\"Thanks for playing\")\n",
    "            break\n",
    "    random.randint(1,12)\n",
    "    print(random.randint(1,12))\n"
   ]
  },
  {
   "cell_type": "code",
   "execution_count": 9,
   "metadata": {},
   "outputs": [
    {
     "name": "stdout",
     "output_type": "stream",
     "text": [
      "You rolled 6\n",
      "Do you want to roll again?\n"
     ]
    }
   ],
   "source": [
    "## import random lib to use randint function\n",
    "from random import randint\n",
    "repeat = True\n",
    "while repeat:\n",
    "    print(\"You rolled\",randint(1,12))\n",
    "    print(\"Do you want to roll again?\")\n",
    "    repeat = (\"y\" or \"yes\") in input().lower()"
   ]
  },
  {
   "cell_type": "code",
   "execution_count": 11,
   "metadata": {},
   "outputs": [
    {
     "name": "stdout",
     "output_type": "stream",
     "text": [
      "Welcome to the dice rolling simulator!\n",
      "You rolled a 8!\n",
      "Please enter y or n.\n",
      "You rolled a 9!\n",
      "You rolled a 11!\n",
      "Thank you for playing!\n"
     ]
    }
   ],
   "source": [
    "# Import the random module\n",
    "import random\n",
    "\n",
    "# Define a function to roll a dice\n",
    "def roll_dice():\n",
    "  # Generate a random number between 1 and 12\n",
    "  result = random.randint(1, 12)\n",
    "  # Return the result\n",
    "  return result\n",
    "\n",
    "# Define a function to ask the user if they want to roll again\n",
    "def ask_again():\n",
    "  # Prompt the user for input\n",
    "  answer = input(\"Do you want to roll again? (y/n) \")\n",
    "  # Return the answer\n",
    "  return answer\n",
    "\n",
    "# Start the program\n",
    "print(\"Welcome to the dice rolling simulator!\")\n",
    "# Set a flag to indicate if the user wants to continue\n",
    "continue_rolling = True\n",
    "# Loop until the user wants to stop\n",
    "while continue_rolling:\n",
    "  # Roll the dice and print the result\n",
    "  dice = roll_dice()\n",
    "  print(f\"You rolled a {dice}!\")\n",
    "  # Ask the user if they want to roll again\n",
    "  response = ask_again()\n",
    "  # Check the response\n",
    "  if response.lower() == \"y\":\n",
    "    # Continue the loop\n",
    "    continue_rolling = True\n",
    "  elif response.lower() == \"n\":\n",
    "    # Break the loop\n",
    "    continue_rolling = False\n",
    "    print(\"Thank you for playing!\")\n",
    "  else:\n",
    "    # Invalid input\n",
    "    print(\"Please enter y or n.\")\n"
   ]
  }
 ],
 "metadata": {
  "kernelspec": {
   "display_name": "Python 3",
   "language": "python",
   "name": "python3"
  },
  "language_info": {
   "codemirror_mode": {
    "name": "ipython",
    "version": 3
   },
   "file_extension": ".py",
   "mimetype": "text/x-python",
   "name": "python",
   "nbconvert_exporter": "python",
   "pygments_lexer": "ipython3",
   "version": "3.12.1"
  }
 },
 "nbformat": 4,
 "nbformat_minor": 2
}
